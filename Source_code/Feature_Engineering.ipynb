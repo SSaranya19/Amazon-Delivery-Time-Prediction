{
 "cells": [
  {
   "cell_type": "markdown",
   "id": "4f31722f-de5c-4e3b-aff8-d8e4425436f8",
   "metadata": {},
   "source": [
    "## Amazon Delivery Time Prediction - Feature Engineering"
   ]
  },
  {
   "cell_type": "code",
   "execution_count": 31,
   "id": "41338b2d-4b67-4859-bdb2-f7d38337a160",
   "metadata": {},
   "outputs": [],
   "source": [
    "import pandas as pd\n",
    "import numpy as np\n",
    "from sklearn.preprocessing import StandardScaler"
   ]
  },
  {
   "cell_type": "code",
   "execution_count": 77,
   "id": "5e47c769-7361-4663-be4b-4779356bfd48",
   "metadata": {},
   "outputs": [],
   "source": [
    "# Load cleaned data\n",
    "df = pd.read_csv('cleaned_data.csv')"
   ]
  },
  {
   "cell_type": "code",
   "execution_count": 79,
   "id": "69978e4b-3397-4d59-92d2-9e722c72d1f8",
   "metadata": {},
   "outputs": [
    {
     "data": {
      "text/html": [
       "<div>\n",
       "<style scoped>\n",
       "    .dataframe tbody tr th:only-of-type {\n",
       "        vertical-align: middle;\n",
       "    }\n",
       "\n",
       "    .dataframe tbody tr th {\n",
       "        vertical-align: top;\n",
       "    }\n",
       "\n",
       "    .dataframe thead th {\n",
       "        text-align: right;\n",
       "    }\n",
       "</style>\n",
       "<table border=\"1\" class=\"dataframe\">\n",
       "  <thead>\n",
       "    <tr style=\"text-align: right;\">\n",
       "      <th></th>\n",
       "      <th>Order_ID</th>\n",
       "      <th>Agent_Age</th>\n",
       "      <th>Agent_Rating</th>\n",
       "      <th>Store_Latitude</th>\n",
       "      <th>Store_Longitude</th>\n",
       "      <th>Drop_Latitude</th>\n",
       "      <th>Drop_Longitude</th>\n",
       "      <th>Order_Date</th>\n",
       "      <th>Order_Time</th>\n",
       "      <th>Pickup_Time</th>\n",
       "      <th>...</th>\n",
       "      <th>Pickup_Hour</th>\n",
       "      <th>Pickup_Minute</th>\n",
       "      <th>Order_Day</th>\n",
       "      <th>Order_Month</th>\n",
       "      <th>Weather_Encoded</th>\n",
       "      <th>Traffic_Encoded</th>\n",
       "      <th>Vehicle_Encoded</th>\n",
       "      <th>Area_Encoded</th>\n",
       "      <th>Category_Encoded</th>\n",
       "      <th>Order_Day_Encoded</th>\n",
       "    </tr>\n",
       "  </thead>\n",
       "  <tbody>\n",
       "    <tr>\n",
       "      <th>0</th>\n",
       "      <td>ialx566343618</td>\n",
       "      <td>37</td>\n",
       "      <td>4.9</td>\n",
       "      <td>22.745049</td>\n",
       "      <td>75.892471</td>\n",
       "      <td>22.765049</td>\n",
       "      <td>75.912471</td>\n",
       "      <td>2022-03-19</td>\n",
       "      <td>11:30:00</td>\n",
       "      <td>11:45:00</td>\n",
       "      <td>...</td>\n",
       "      <td>11</td>\n",
       "      <td>45</td>\n",
       "      <td>Saturday</td>\n",
       "      <td>3</td>\n",
       "      <td>4</td>\n",
       "      <td>0</td>\n",
       "      <td>1</td>\n",
       "      <td>3</td>\n",
       "      <td>2</td>\n",
       "      <td>2</td>\n",
       "    </tr>\n",
       "    <tr>\n",
       "      <th>1</th>\n",
       "      <td>akqg208421122</td>\n",
       "      <td>34</td>\n",
       "      <td>4.5</td>\n",
       "      <td>12.913041</td>\n",
       "      <td>77.683237</td>\n",
       "      <td>13.043041</td>\n",
       "      <td>77.813237</td>\n",
       "      <td>2022-03-25</td>\n",
       "      <td>19:45:00</td>\n",
       "      <td>19:50:00</td>\n",
       "      <td>...</td>\n",
       "      <td>19</td>\n",
       "      <td>50</td>\n",
       "      <td>Friday</td>\n",
       "      <td>3</td>\n",
       "      <td>3</td>\n",
       "      <td>1</td>\n",
       "      <td>2</td>\n",
       "      <td>0</td>\n",
       "      <td>4</td>\n",
       "      <td>0</td>\n",
       "    </tr>\n",
       "    <tr>\n",
       "      <th>2</th>\n",
       "      <td>njpu434582536</td>\n",
       "      <td>23</td>\n",
       "      <td>4.4</td>\n",
       "      <td>12.914264</td>\n",
       "      <td>77.678400</td>\n",
       "      <td>12.924264</td>\n",
       "      <td>77.688400</td>\n",
       "      <td>2022-03-19</td>\n",
       "      <td>08:30:00</td>\n",
       "      <td>08:45:00</td>\n",
       "      <td>...</td>\n",
       "      <td>8</td>\n",
       "      <td>45</td>\n",
       "      <td>Saturday</td>\n",
       "      <td>3</td>\n",
       "      <td>2</td>\n",
       "      <td>2</td>\n",
       "      <td>1</td>\n",
       "      <td>3</td>\n",
       "      <td>14</td>\n",
       "      <td>2</td>\n",
       "    </tr>\n",
       "    <tr>\n",
       "      <th>3</th>\n",
       "      <td>rjto796129700</td>\n",
       "      <td>38</td>\n",
       "      <td>4.7</td>\n",
       "      <td>11.003669</td>\n",
       "      <td>76.976494</td>\n",
       "      <td>11.053669</td>\n",
       "      <td>77.026494</td>\n",
       "      <td>2022-04-05</td>\n",
       "      <td>18:00:00</td>\n",
       "      <td>18:10:00</td>\n",
       "      <td>...</td>\n",
       "      <td>18</td>\n",
       "      <td>10</td>\n",
       "      <td>Tuesday</td>\n",
       "      <td>4</td>\n",
       "      <td>4</td>\n",
       "      <td>3</td>\n",
       "      <td>1</td>\n",
       "      <td>0</td>\n",
       "      <td>3</td>\n",
       "      <td>5</td>\n",
       "    </tr>\n",
       "    <tr>\n",
       "      <th>4</th>\n",
       "      <td>zguw716275638</td>\n",
       "      <td>32</td>\n",
       "      <td>4.6</td>\n",
       "      <td>12.972793</td>\n",
       "      <td>80.249982</td>\n",
       "      <td>13.012793</td>\n",
       "      <td>80.289982</td>\n",
       "      <td>2022-03-26</td>\n",
       "      <td>13:30:00</td>\n",
       "      <td>13:45:00</td>\n",
       "      <td>...</td>\n",
       "      <td>13</td>\n",
       "      <td>45</td>\n",
       "      <td>Saturday</td>\n",
       "      <td>3</td>\n",
       "      <td>0</td>\n",
       "      <td>0</td>\n",
       "      <td>2</td>\n",
       "      <td>0</td>\n",
       "      <td>15</td>\n",
       "      <td>2</td>\n",
       "    </tr>\n",
       "  </tbody>\n",
       "</table>\n",
       "<p>5 rows × 29 columns</p>\n",
       "</div>"
      ],
      "text/plain": [
       "        Order_ID  Agent_Age  Agent_Rating  Store_Latitude  Store_Longitude  \\\n",
       "0  ialx566343618         37           4.9       22.745049        75.892471   \n",
       "1  akqg208421122         34           4.5       12.913041        77.683237   \n",
       "2  njpu434582536         23           4.4       12.914264        77.678400   \n",
       "3  rjto796129700         38           4.7       11.003669        76.976494   \n",
       "4  zguw716275638         32           4.6       12.972793        80.249982   \n",
       "\n",
       "   Drop_Latitude  Drop_Longitude  Order_Date Order_Time Pickup_Time  ...  \\\n",
       "0      22.765049       75.912471  2022-03-19   11:30:00    11:45:00  ...   \n",
       "1      13.043041       77.813237  2022-03-25   19:45:00    19:50:00  ...   \n",
       "2      12.924264       77.688400  2022-03-19   08:30:00    08:45:00  ...   \n",
       "3      11.053669       77.026494  2022-04-05   18:00:00    18:10:00  ...   \n",
       "4      13.012793       80.289982  2022-03-26   13:30:00    13:45:00  ...   \n",
       "\n",
       "  Pickup_Hour Pickup_Minute Order_Day Order_Month  Weather_Encoded  \\\n",
       "0          11            45  Saturday           3                4   \n",
       "1          19            50    Friday           3                3   \n",
       "2           8            45  Saturday           3                2   \n",
       "3          18            10   Tuesday           4                4   \n",
       "4          13            45  Saturday           3                0   \n",
       "\n",
       "  Traffic_Encoded  Vehicle_Encoded  Area_Encoded  Category_Encoded  \\\n",
       "0               0                1             3                 2   \n",
       "1               1                2             0                 4   \n",
       "2               2                1             3                14   \n",
       "3               3                1             0                 3   \n",
       "4               0                2             0                15   \n",
       "\n",
       "   Order_Day_Encoded  \n",
       "0                  2  \n",
       "1                  0  \n",
       "2                  2  \n",
       "3                  5  \n",
       "4                  2  \n",
       "\n",
       "[5 rows x 29 columns]"
      ]
     },
     "execution_count": 79,
     "metadata": {},
     "output_type": "execute_result"
    }
   ],
   "source": [
    "df.head()"
   ]
  },
  {
   "cell_type": "code",
   "execution_count": 81,
   "id": "d49a71f3-8c99-45b6-84b2-2d3d0ed5e0ae",
   "metadata": {},
   "outputs": [],
   "source": [
    "# Initialize scaler\n",
    "scaler = StandardScaler()"
   ]
  },
  {
   "cell_type": "code",
   "execution_count": 83,
   "id": "81c1ff9b-570a-44d6-826d-338931a3fe60",
   "metadata": {},
   "outputs": [],
   "source": [
    "# Calculate time differences\n",
    "df['Order_to_Pickup_Minutes'] = (\n",
    "    (pd.to_datetime(df['Pickup_Time'], format='%H:%M:%S') - \n",
    "     pd.to_datetime(df['Order_Time'], format='%H:%M:%S')).dt.total_seconds() / 60\n",
    ")"
   ]
  },
  {
   "cell_type": "code",
   "execution_count": 85,
   "id": "3e8292b7-d30b-474d-9336-9b869b297941",
   "metadata": {},
   "outputs": [],
   "source": [
    "df['Is_Weekend'] = df['Order_Day'].isin(['Saturday', 'Sunday']).astype(int)\n",
    "df['Is_Peak_Hour'] = df['Order_Hour'].isin([8, 9, 12, 13, 17, 18, 19]).astype(int)"
   ]
  },
  {
   "cell_type": "code",
   "execution_count": 87,
   "id": "4150f99e-1062-4089-9497-f9b1ca44d611",
   "metadata": {},
   "outputs": [],
   "source": [
    "# Create distance features\n",
    "df['Distance_Category'] = pd.qcut(\n",
    "    df['Distance'],\n",
    "    q=4,\n",
    "    labels=['Short', 'Medium', 'Long', 'Very Long']\n",
    ")"
   ]
  },
  {
   "cell_type": "code",
   "execution_count": 89,
   "id": "89773910-4d2a-4c4e-a085-8dd6d506c25e",
   "metadata": {},
   "outputs": [],
   "source": [
    "# Scale numerical features\n",
    "numerical_cols = ['Distance', 'Order_to_Pickup_Minutes', 'Agent_Age', 'Agent_Rating']\n",
    "df[numerical_cols] = scaler.fit_transform(df[numerical_cols])"
   ]
  },
  {
   "cell_type": "code",
   "execution_count": 91,
   "id": "fec4c725-ff80-4910-a8ee-9a1ebf326230",
   "metadata": {},
   "outputs": [
    {
     "data": {
      "text/plain": [
       "Order_ID                   0\n",
       "Agent_Age                  0\n",
       "Agent_Rating               0\n",
       "Store_Latitude             0\n",
       "Store_Longitude            0\n",
       "Drop_Latitude              0\n",
       "Drop_Longitude             0\n",
       "Order_Date                 0\n",
       "Order_Time                 0\n",
       "Pickup_Time                0\n",
       "Weather                    0\n",
       "Traffic                    0\n",
       "Vehicle                    0\n",
       "Area                       0\n",
       "Delivery_Time              0\n",
       "Category                   0\n",
       "Distance                   0\n",
       "Order_Hour                 0\n",
       "Order_Minute               0\n",
       "Pickup_Hour                0\n",
       "Pickup_Minute              0\n",
       "Order_Day                  0\n",
       "Order_Month                0\n",
       "Weather_Encoded            0\n",
       "Traffic_Encoded            0\n",
       "Vehicle_Encoded            0\n",
       "Area_Encoded               0\n",
       "Category_Encoded           0\n",
       "Order_Day_Encoded          0\n",
       "Order_to_Pickup_Minutes    0\n",
       "Is_Weekend                 0\n",
       "Is_Peak_Hour               0\n",
       "Distance_Category          0\n",
       "dtype: int64"
      ]
     },
     "execution_count": 91,
     "metadata": {},
     "output_type": "execute_result"
    }
   ],
   "source": [
    "df.isnull().sum()"
   ]
  },
  {
   "cell_type": "code",
   "execution_count": 93,
   "id": "0de19dbf-8244-40c1-afe2-7240c0a05f07",
   "metadata": {},
   "outputs": [
    {
     "name": "stdout",
     "output_type": "stream",
     "text": [
      "\n",
      "Featured data saved to 'featured_data.csv'\n"
     ]
    }
   ],
   "source": [
    "# Save featured dataset\n",
    "df.to_csv('featured_data.csv', index=False)\n",
    "print(\"\\nFeatured data saved to 'featured_data.csv'\")"
   ]
  },
  {
   "cell_type": "code",
   "execution_count": 95,
   "id": "20346ac7-4446-485a-8264-38ee66fefb0a",
   "metadata": {},
   "outputs": [
    {
     "name": "stdout",
     "output_type": "stream",
     "text": [
      "\n",
      "New features created:\n",
      "- Distance_Category\n",
      "- Is_Peak_Hour\n",
      "- Is_Weekend\n",
      "- Order_to_Pickup_Minutes\n"
     ]
    }
   ],
   "source": [
    "# Print new features created\n",
    "original_columns = set(pd.read_csv('cleaned_data.csv').columns)\n",
    "new_features = set(df.columns) - original_columns\n",
    "print(\"\\nNew features created:\")\n",
    "for feature in sorted(new_features):\n",
    "    print(f\"- {feature}\")"
   ]
  }
 ],
 "metadata": {
  "kernelspec": {
   "display_name": "Python 3 (ipykernel)",
   "language": "python",
   "name": "python3"
  },
  "language_info": {
   "codemirror_mode": {
    "name": "ipython",
    "version": 3
   },
   "file_extension": ".py",
   "mimetype": "text/x-python",
   "name": "python",
   "nbconvert_exporter": "python",
   "pygments_lexer": "ipython3",
   "version": "3.12.4"
  }
 },
 "nbformat": 4,
 "nbformat_minor": 5
}
