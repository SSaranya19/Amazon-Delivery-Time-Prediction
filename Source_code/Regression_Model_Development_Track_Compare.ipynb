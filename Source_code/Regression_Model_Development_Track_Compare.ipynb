{
 "cells": [
  {
   "cell_type": "markdown",
   "id": "546c1d0e-9364-423e-942d-4a1ce1bba227",
   "metadata": {},
   "source": [
    "## Amazon Delivery Time Prediction - Regression Model Development"
   ]
  },
  {
   "cell_type": "code",
   "execution_count": 31,
   "id": "0d9da851-4fcf-4cf5-b8d8-718e4092da07",
   "metadata": {},
   "outputs": [],
   "source": [
    "# Import required libraries\n",
    "import pandas as pd\n",
    "import numpy as np\n",
    "import mlflow\n",
    "import mlflow.sklearn\n",
    "import pickle\n",
    "from sklearn.model_selection import train_test_split\n",
    "from sklearn.linear_model import LinearRegression\n",
    "from sklearn.ensemble import RandomForestRegressor, GradientBoostingRegressor\n",
    "from sklearn.svm import SVR\n",
    "from xgboost import XGBRegressor\n",
    "from sklearn.metrics import mean_absolute_error, mean_squared_error, r2_score"
   ]
  },
  {
   "cell_type": "code",
   "execution_count": 33,
   "id": "1ef6bee7-cdc7-4615-b301-78600f139624",
   "metadata": {},
   "outputs": [],
   "source": [
    "# Load the dataset\n",
    "data = pd.read_csv(\"featured_data.csv\")"
   ]
  },
  {
   "cell_type": "code",
   "execution_count": 35,
   "id": "0c98b6c8-27a8-48b2-bc25-a5fdd1283bcd",
   "metadata": {},
   "outputs": [
    {
     "data": {
      "text/plain": [
       "Order_ID                    object\n",
       "Agent_Age                  float64\n",
       "Agent_Rating               float64\n",
       "Store_Latitude             float64\n",
       "Store_Longitude            float64\n",
       "Drop_Latitude              float64\n",
       "Drop_Longitude             float64\n",
       "Order_Date                  object\n",
       "Order_Time                  object\n",
       "Pickup_Time                 object\n",
       "Weather                     object\n",
       "Traffic                     object\n",
       "Vehicle                     object\n",
       "Area                        object\n",
       "Delivery_Time                int64\n",
       "Category                    object\n",
       "Distance                   float64\n",
       "Order_Hour                   int64\n",
       "Order_Minute                 int64\n",
       "Pickup_Hour                  int64\n",
       "Pickup_Minute                int64\n",
       "Order_Day                   object\n",
       "Order_Month                  int64\n",
       "Weather_Encoded              int64\n",
       "Traffic_Encoded              int64\n",
       "Vehicle_Encoded              int64\n",
       "Area_Encoded                 int64\n",
       "Category_Encoded             int64\n",
       "Order_Day_Encoded            int64\n",
       "Order_to_Pickup_Minutes    float64\n",
       "Is_Weekend                   int64\n",
       "Is_Peak_Hour                 int64\n",
       "Distance_Category           object\n",
       "dtype: object"
      ]
     },
     "execution_count": 35,
     "metadata": {},
     "output_type": "execute_result"
    }
   ],
   "source": [
    "data.dtypes"
   ]
  },
  {
   "cell_type": "code",
   "execution_count": 37,
   "id": "b7236764-b141-4382-bc29-8143ba96e964",
   "metadata": {},
   "outputs": [
    {
     "data": {
      "text/html": [
       "<div>\n",
       "<style scoped>\n",
       "    .dataframe tbody tr th:only-of-type {\n",
       "        vertical-align: middle;\n",
       "    }\n",
       "\n",
       "    .dataframe tbody tr th {\n",
       "        vertical-align: top;\n",
       "    }\n",
       "\n",
       "    .dataframe thead th {\n",
       "        text-align: right;\n",
       "    }\n",
       "</style>\n",
       "<table border=\"1\" class=\"dataframe\">\n",
       "  <thead>\n",
       "    <tr style=\"text-align: right;\">\n",
       "      <th></th>\n",
       "      <th>Order_ID</th>\n",
       "      <th>Agent_Age</th>\n",
       "      <th>Agent_Rating</th>\n",
       "      <th>Store_Latitude</th>\n",
       "      <th>Store_Longitude</th>\n",
       "      <th>Drop_Latitude</th>\n",
       "      <th>Drop_Longitude</th>\n",
       "      <th>Order_Date</th>\n",
       "      <th>Order_Time</th>\n",
       "      <th>Pickup_Time</th>\n",
       "      <th>...</th>\n",
       "      <th>Weather_Encoded</th>\n",
       "      <th>Traffic_Encoded</th>\n",
       "      <th>Vehicle_Encoded</th>\n",
       "      <th>Area_Encoded</th>\n",
       "      <th>Category_Encoded</th>\n",
       "      <th>Order_Day_Encoded</th>\n",
       "      <th>Order_to_Pickup_Minutes</th>\n",
       "      <th>Is_Weekend</th>\n",
       "      <th>Is_Peak_Hour</th>\n",
       "      <th>Distance_Category</th>\n",
       "    </tr>\n",
       "  </thead>\n",
       "  <tbody>\n",
       "    <tr>\n",
       "      <th>0</th>\n",
       "      <td>ialx566343618</td>\n",
       "      <td>1.278203</td>\n",
       "      <td>0.795124</td>\n",
       "      <td>22.745049</td>\n",
       "      <td>75.892471</td>\n",
       "      <td>22.765049</td>\n",
       "      <td>75.912471</td>\n",
       "      <td>2022-03-19</td>\n",
       "      <td>11:30:00</td>\n",
       "      <td>11:45:00</td>\n",
       "      <td>...</td>\n",
       "      <td>4</td>\n",
       "      <td>0</td>\n",
       "      <td>1</td>\n",
       "      <td>3</td>\n",
       "      <td>2</td>\n",
       "      <td>2</td>\n",
       "      <td>0.166617</td>\n",
       "      <td>1</td>\n",
       "      <td>0</td>\n",
       "      <td>Short</td>\n",
       "    </tr>\n",
       "    <tr>\n",
       "      <th>1</th>\n",
       "      <td>akqg208421122</td>\n",
       "      <td>0.762304</td>\n",
       "      <td>-0.400487</td>\n",
       "      <td>12.913041</td>\n",
       "      <td>77.683237</td>\n",
       "      <td>13.043041</td>\n",
       "      <td>77.813237</td>\n",
       "      <td>2022-03-25</td>\n",
       "      <td>19:45:00</td>\n",
       "      <td>19:50:00</td>\n",
       "      <td>...</td>\n",
       "      <td>3</td>\n",
       "      <td>1</td>\n",
       "      <td>2</td>\n",
       "      <td>0</td>\n",
       "      <td>4</td>\n",
       "      <td>0</td>\n",
       "      <td>0.115820</td>\n",
       "      <td>0</td>\n",
       "      <td>1</td>\n",
       "      <td>Very Long</td>\n",
       "    </tr>\n",
       "    <tr>\n",
       "      <th>2</th>\n",
       "      <td>njpu434582536</td>\n",
       "      <td>-1.129327</td>\n",
       "      <td>-0.699390</td>\n",
       "      <td>12.914264</td>\n",
       "      <td>77.678400</td>\n",
       "      <td>12.924264</td>\n",
       "      <td>77.688400</td>\n",
       "      <td>2022-03-19</td>\n",
       "      <td>08:30:00</td>\n",
       "      <td>08:45:00</td>\n",
       "      <td>...</td>\n",
       "      <td>2</td>\n",
       "      <td>2</td>\n",
       "      <td>1</td>\n",
       "      <td>3</td>\n",
       "      <td>14</td>\n",
       "      <td>2</td>\n",
       "      <td>0.166617</td>\n",
       "      <td>1</td>\n",
       "      <td>1</td>\n",
       "      <td>Short</td>\n",
       "    </tr>\n",
       "    <tr>\n",
       "      <th>3</th>\n",
       "      <td>rjto796129700</td>\n",
       "      <td>1.450169</td>\n",
       "      <td>0.197319</td>\n",
       "      <td>11.003669</td>\n",
       "      <td>76.976494</td>\n",
       "      <td>11.053669</td>\n",
       "      <td>77.026494</td>\n",
       "      <td>2022-04-05</td>\n",
       "      <td>18:00:00</td>\n",
       "      <td>18:10:00</td>\n",
       "      <td>...</td>\n",
       "      <td>4</td>\n",
       "      <td>3</td>\n",
       "      <td>1</td>\n",
       "      <td>0</td>\n",
       "      <td>3</td>\n",
       "      <td>5</td>\n",
       "      <td>0.141219</td>\n",
       "      <td>0</td>\n",
       "      <td>1</td>\n",
       "      <td>Medium</td>\n",
       "    </tr>\n",
       "    <tr>\n",
       "      <th>4</th>\n",
       "      <td>zguw716275638</td>\n",
       "      <td>0.418371</td>\n",
       "      <td>-0.101584</td>\n",
       "      <td>12.972793</td>\n",
       "      <td>80.249982</td>\n",
       "      <td>13.012793</td>\n",
       "      <td>80.289982</td>\n",
       "      <td>2022-03-26</td>\n",
       "      <td>13:30:00</td>\n",
       "      <td>13:45:00</td>\n",
       "      <td>...</td>\n",
       "      <td>0</td>\n",
       "      <td>0</td>\n",
       "      <td>2</td>\n",
       "      <td>0</td>\n",
       "      <td>15</td>\n",
       "      <td>2</td>\n",
       "      <td>0.166617</td>\n",
       "      <td>1</td>\n",
       "      <td>1</td>\n",
       "      <td>Medium</td>\n",
       "    </tr>\n",
       "  </tbody>\n",
       "</table>\n",
       "<p>5 rows × 33 columns</p>\n",
       "</div>"
      ],
      "text/plain": [
       "        Order_ID  Agent_Age  Agent_Rating  Store_Latitude  Store_Longitude  \\\n",
       "0  ialx566343618   1.278203      0.795124       22.745049        75.892471   \n",
       "1  akqg208421122   0.762304     -0.400487       12.913041        77.683237   \n",
       "2  njpu434582536  -1.129327     -0.699390       12.914264        77.678400   \n",
       "3  rjto796129700   1.450169      0.197319       11.003669        76.976494   \n",
       "4  zguw716275638   0.418371     -0.101584       12.972793        80.249982   \n",
       "\n",
       "   Drop_Latitude  Drop_Longitude  Order_Date Order_Time Pickup_Time  ...  \\\n",
       "0      22.765049       75.912471  2022-03-19   11:30:00    11:45:00  ...   \n",
       "1      13.043041       77.813237  2022-03-25   19:45:00    19:50:00  ...   \n",
       "2      12.924264       77.688400  2022-03-19   08:30:00    08:45:00  ...   \n",
       "3      11.053669       77.026494  2022-04-05   18:00:00    18:10:00  ...   \n",
       "4      13.012793       80.289982  2022-03-26   13:30:00    13:45:00  ...   \n",
       "\n",
       "  Weather_Encoded Traffic_Encoded Vehicle_Encoded Area_Encoded  \\\n",
       "0               4               0               1            3   \n",
       "1               3               1               2            0   \n",
       "2               2               2               1            3   \n",
       "3               4               3               1            0   \n",
       "4               0               0               2            0   \n",
       "\n",
       "   Category_Encoded Order_Day_Encoded  Order_to_Pickup_Minutes  Is_Weekend  \\\n",
       "0                 2                 2                 0.166617           1   \n",
       "1                 4                 0                 0.115820           0   \n",
       "2                14                 2                 0.166617           1   \n",
       "3                 3                 5                 0.141219           0   \n",
       "4                15                 2                 0.166617           1   \n",
       "\n",
       "   Is_Peak_Hour  Distance_Category  \n",
       "0             0              Short  \n",
       "1             1          Very Long  \n",
       "2             1              Short  \n",
       "3             1             Medium  \n",
       "4             1             Medium  \n",
       "\n",
       "[5 rows x 33 columns]"
      ]
     },
     "execution_count": 37,
     "metadata": {},
     "output_type": "execute_result"
    }
   ],
   "source": [
    "data.head()"
   ]
  },
  {
   "cell_type": "code",
   "execution_count": 39,
   "id": "637cb4b7-b84e-4c72-9c65-3f3114984627",
   "metadata": {},
   "outputs": [],
   "source": [
    "# Select only numeric features and convert integer columns to float\n",
    "def ensure_float(data):\n",
    "    for col in data.select_dtypes(include=['int64']).columns:\n",
    "        data[col] = data[col].astype(np.float64)\n",
    "    return data"
   ]
  },
  {
   "cell_type": "code",
   "execution_count": 19,
   "id": "efb5a07a-39b8-4803-a332-0184e428cc7c",
   "metadata": {},
   "outputs": [],
   "source": [
    "# Select only numeric features\n",
    "X = data.select_dtypes(include=[np.number]).drop(columns=['Delivery_Time'], errors='ignore')\n",
    "X = ensure_float(X)\n",
    "y = data['Delivery_Time']"
   ]
  },
  {
   "cell_type": "code",
   "execution_count": 41,
   "id": "1931bd44-4d6b-4dcc-aac4-4b39a6a9d702",
   "metadata": {},
   "outputs": [],
   "source": [
    "# Select features\n",
    "features = [\n",
    "    'Agent_Age', 'Agent_Rating', 'Distance', 'Weather_Encoded',\n",
    "    'Traffic_Encoded', 'Vehicle_Encoded', 'Area_Encoded',\n",
    "    'Category_Encoded', 'Order_to_Pickup_Minutes'\n",
    "]\n",
    "\n",
    "X = data[features]\n",
    "y = data['Delivery_Time']"
   ]
  },
  {
   "cell_type": "code",
   "execution_count": 43,
   "id": "c7e836f9-1870-40a9-836f-68dd6cd79c6a",
   "metadata": {},
   "outputs": [],
   "source": [
    "# Split data into training and testing sets\n",
    "X_train, X_test, y_train, y_test = train_test_split(X, y, test_size=0.2, random_state=42)"
   ]
  },
  {
   "cell_type": "code",
   "execution_count": 45,
   "id": "bde7afcf-a6d6-4fe2-b822-5f104ce6ca7b",
   "metadata": {},
   "outputs": [],
   "source": [
    "# Define models with optimized hyperparameters\n",
    "models = {\n",
    "    \"Linear Regression\": LinearRegression(),\n",
    "    \"Random Forest\": RandomForestRegressor(n_estimators=300, max_depth=15, min_samples_split=5, random_state=42),\n",
    "    \"Gradient Boosting\": GradientBoostingRegressor(n_estimators=200, learning_rate=0.05, max_depth=7, random_state=42),\n",
    "    \"SVR\": SVR(C=10.0, epsilon=0.05, kernel='rbf'),\n",
    "    \"XGBoost\": XGBRegressor(objective='reg:squarederror', n_estimators=250, learning_rate=0.05, max_depth=8, subsample=0.8, colsample_bytree=0.8, random_state=42)\n",
    "}"
   ]
  },
  {
   "cell_type": "code",
   "execution_count": 47,
   "id": "77b7b59e-992d-4d6f-b457-fdfe9c66050e",
   "metadata": {},
   "outputs": [],
   "source": [
    "# Track and compare models using MLflow\n",
    "trained_models = {}\n",
    "mlflow.set_experiment(\"Amazon Delivery Time Prediction\")\n",
    "\n",
    "best_model = None\n",
    "best_rmse = float(\"inf\")"
   ]
  },
  {
   "cell_type": "code",
   "execution_count": 49,
   "id": "8f411a23-ed31-4ff0-9c7c-893948b90b85",
   "metadata": {},
   "outputs": [
    {
     "name": "stdout",
     "output_type": "stream",
     "text": [
      "Training model: Linear Regression\n",
      "Linear Regression - RMSE: 45.58, MAE: 35.26, R-squared: 0.22\n"
     ]
    },
    {
     "name": "stderr",
     "output_type": "stream",
     "text": [
      "2025/02/17 19:12:53 WARNING mlflow.models.model: Model logged without a signature and input example. Please set `input_example` parameter when logging the model to auto infer the model signature.\n"
     ]
    },
    {
     "name": "stdout",
     "output_type": "stream",
     "text": [
      "Training model: Random Forest\n",
      "Random Forest - RMSE: 22.52, MAE: 17.50, R-squared: 0.81\n"
     ]
    },
    {
     "name": "stderr",
     "output_type": "stream",
     "text": [
      "2025/02/17 19:13:45 WARNING mlflow.models.model: Model logged without a signature and input example. Please set `input_example` parameter when logging the model to auto infer the model signature.\n"
     ]
    },
    {
     "name": "stdout",
     "output_type": "stream",
     "text": [
      "Training model: Gradient Boosting\n",
      "Gradient Boosting - RMSE: 21.84, MAE: 17.05, R-squared: 0.82\n"
     ]
    },
    {
     "name": "stderr",
     "output_type": "stream",
     "text": [
      "2025/02/17 19:14:08 WARNING mlflow.models.model: Model logged without a signature and input example. Please set `input_example` parameter when logging the model to auto infer the model signature.\n"
     ]
    },
    {
     "name": "stdout",
     "output_type": "stream",
     "text": [
      "Training model: SVR\n",
      "SVR - RMSE: 43.76, MAE: 33.67, R-squared: 0.28\n"
     ]
    },
    {
     "name": "stderr",
     "output_type": "stream",
     "text": [
      "2025/02/17 19:15:54 WARNING mlflow.models.model: Model logged without a signature and input example. Please set `input_example` parameter when logging the model to auto infer the model signature.\n"
     ]
    },
    {
     "name": "stdout",
     "output_type": "stream",
     "text": [
      "Training model: XGBoost\n",
      "XGBoost - RMSE: 21.86, MAE: 17.03, R-squared: 0.82\n"
     ]
    },
    {
     "name": "stderr",
     "output_type": "stream",
     "text": [
      "2025/02/17 19:16:04 WARNING mlflow.models.model: Model logged without a signature and input example. Please set `input_example` parameter when logging the model to auto infer the model signature.\n"
     ]
    },
    {
     "name": "stdout",
     "output_type": "stream",
     "text": [
      "Best Model: Gradient Boosting with RMSE: 21.84\n"
     ]
    }
   ],
   "source": [
    "# Train, save, and track models\n",
    "for name, model in models.items():\n",
    "    print(f\"Training model: {name}\")\n",
    "    model.fit(X_train, y_train)\n",
    "    trained_models[name] = model\n",
    "    \n",
    "    with open(f\"{name}.pkl\", \"wb\") as f:\n",
    "        pickle.dump(model, f)\n",
    "    \n",
    "    y_pred = model.predict(X_test)\n",
    "    rmse = np.sqrt(mean_squared_error(y_test, y_pred))\n",
    "    mae = mean_absolute_error(y_test, y_pred)\n",
    "    r2 = r2_score(y_test, y_pred)\n",
    "    \n",
    "    print(f\"{name} - RMSE: {rmse:.2f}, MAE: {mae:.2f}, R-squared: {r2:.2f}\")\n",
    "    \n",
    "    with mlflow.start_run(run_name=name):\n",
    "        # Log only important hyperparameters\n",
    "        if hasattr(model, 'get_params'):\n",
    "            params = model.get_params()\n",
    "            important_params = ['n_estimators', 'max_depth', 'learning_rate', 'C', 'epsilon', 'subsample', 'min_samples_split', 'colsample_bytree']\n",
    "            for param_name, param_value in params.items():\n",
    "                if param_name in important_params:\n",
    "                    mlflow.log_param(param_name, param_value)\n",
    "        \n",
    "        mlflow.log_param(\"model\", name)\n",
    "        mlflow.log_metric(\"RMSE\", rmse)\n",
    "        mlflow.log_metric(\"MAE\", mae)\n",
    "        mlflow.log_metric(\"R-squared\", r2)\n",
    "        \n",
    "        mlflow.sklearn.log_model(model, name)\n",
    "        \n",
    "        if rmse < best_rmse:\n",
    "            best_rmse = rmse\n",
    "            best_model = name\n",
    "\n",
    "print(f\"Best Model: {best_model} with RMSE: {best_rmse:.2f}\")"
   ]
  },
  {
   "cell_type": "code",
   "execution_count": 51,
   "id": "4fbd63cd-b94c-4686-8645-471b08e1248f",
   "metadata": {},
   "outputs": [],
   "source": [
    "# Load the model\n",
    "with open(\"Gradient Boosting.pkl\", \"rb\") as file:  # Replace 'your_model.pkl' with your actual filename\n",
    "    model = pickle.load(file)"
   ]
  },
  {
   "cell_type": "code",
   "execution_count": 53,
   "id": "80dc573a-312c-4d76-8278-078b4df96230",
   "metadata": {},
   "outputs": [
    {
     "name": "stdout",
     "output_type": "stream",
     "text": [
      "Input shape: (1, 9)\n"
     ]
    }
   ],
   "source": [
    "# Define the input features\n",
    "input_data = np.array([[37, 4.9, 3, 4, 0, 1, 3, 2, 0.16]])\n",
    "\n",
    "# Ensure it has the correct shape\n",
    "print(\"Input shape:\", input_data.shape)"
   ]
  },
  {
   "cell_type": "code",
   "execution_count": 55,
   "id": "08baea1e-69d1-4929-9a52-5d5e400c9555",
   "metadata": {},
   "outputs": [
    {
     "name": "stdout",
     "output_type": "stream",
     "text": [
      "Predicted Delivery Time: 119.39 minutes\n"
     ]
    },
    {
     "name": "stderr",
     "output_type": "stream",
     "text": [
      "C:\\Users\\DELL\\anaconda3\\Lib\\site-packages\\sklearn\\utils\\validation.py:2739: UserWarning: X does not have valid feature names, but GradientBoostingRegressor was fitted with feature names\n",
      "  warnings.warn(\n"
     ]
    }
   ],
   "source": [
    "prediction = model.predict(input_data)\n",
    "\n",
    "# Print the predicted delivery time\n",
    "print(f\"Predicted Delivery Time: {prediction[0]:.2f} minutes\")"
   ]
  }
 ],
 "metadata": {
  "kernelspec": {
   "display_name": "Python 3 (ipykernel)",
   "language": "python",
   "name": "python3"
  },
  "language_info": {
   "codemirror_mode": {
    "name": "ipython",
    "version": 3
   },
   "file_extension": ".py",
   "mimetype": "text/x-python",
   "name": "python",
   "nbconvert_exporter": "python",
   "pygments_lexer": "ipython3",
   "version": "3.12.4"
  }
 },
 "nbformat": 4,
 "nbformat_minor": 5
}
