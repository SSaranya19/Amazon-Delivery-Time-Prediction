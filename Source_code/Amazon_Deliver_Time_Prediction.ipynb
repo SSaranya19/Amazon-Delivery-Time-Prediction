{
 "cells": [
  {
   "cell_type": "markdown",
   "id": "4a781eca-cf57-49a3-89a9-0b2e6c13860b",
   "metadata": {},
   "source": [
    "# Project Title - Amazon Delivery Time Prediction"
   ]
  },
  {
   "cell_type": "code",
   "execution_count": 1,
   "id": "890e6fa3-087d-4327-9cf5-d258699f66b2",
   "metadata": {},
   "outputs": [],
   "source": [
    "# Import necessary libraries\n",
    "import pandas as pd\n",
    "import numpy as np\n",
    "import seaborn as sns\n",
    "import matplotlib.pyplot as plt\n",
    "from datetime import datetime, timedelta\n",
    "from geopy.distance import geodesic\n",
    "from sklearn.preprocessing import OneHotEncoder,OrdinalEncoder\n",
    "from sklearn.preprocessing import StandardScaler"
   ]
  },
  {
   "cell_type": "code",
   "execution_count": 3,
   "id": "8808ab5f-1068-4d8c-bd3c-a87f1b7bf5c0",
   "metadata": {},
   "outputs": [],
   "source": [
    "from sklearn.model_selection import train_test_split, KFold, cross_val_score, RandomizedSearchCV\n",
    "from sklearn.linear_model import LinearRegression\n",
    "from sklearn.ensemble import RandomForestRegressor, GradientBoostingRegressor\n",
    "from sklearn.tree import DecisionTreeRegressor\n",
    "from xgboost import XGBRegressor\n",
    "from sklearn.metrics import mean_absolute_error, mean_squared_error, r2_score\n",
    "import mlflow\n",
    "import mlflow.sklearn\n",
    "import joblib"
   ]
  },
  {
   "cell_type": "markdown",
   "id": "4a979c1f-6f5f-4a30-96c5-88ce5291dae6",
   "metadata": {},
   "source": [
    "## Data Cleaning"
   ]
  },
  {
   "cell_type": "code",
   "execution_count": 4,
   "id": "a37905bf-ec9c-4d07-a4bd-e236e9509199",
   "metadata": {},
   "outputs": [
    {
     "data": {
      "text/html": [
       "<div>\n",
       "<style scoped>\n",
       "    .dataframe tbody tr th:only-of-type {\n",
       "        vertical-align: middle;\n",
       "    }\n",
       "\n",
       "    .dataframe tbody tr th {\n",
       "        vertical-align: top;\n",
       "    }\n",
       "\n",
       "    .dataframe thead th {\n",
       "        text-align: right;\n",
       "    }\n",
       "</style>\n",
       "<table border=\"1\" class=\"dataframe\">\n",
       "  <thead>\n",
       "    <tr style=\"text-align: right;\">\n",
       "      <th></th>\n",
       "      <th>Order_ID</th>\n",
       "      <th>Agent_Age</th>\n",
       "      <th>Agent_Rating</th>\n",
       "      <th>Store_Latitude</th>\n",
       "      <th>Store_Longitude</th>\n",
       "      <th>Drop_Latitude</th>\n",
       "      <th>Drop_Longitude</th>\n",
       "      <th>Order_Date</th>\n",
       "      <th>Order_Time</th>\n",
       "      <th>Pickup_Time</th>\n",
       "      <th>Weather</th>\n",
       "      <th>Traffic</th>\n",
       "      <th>Vehicle</th>\n",
       "      <th>Area</th>\n",
       "      <th>Delivery_Time</th>\n",
       "      <th>Category</th>\n",
       "    </tr>\n",
       "  </thead>\n",
       "  <tbody>\n",
       "    <tr>\n",
       "      <th>0</th>\n",
       "      <td>ialx566343618</td>\n",
       "      <td>37</td>\n",
       "      <td>4.9</td>\n",
       "      <td>22.745049</td>\n",
       "      <td>75.892471</td>\n",
       "      <td>22.765049</td>\n",
       "      <td>75.912471</td>\n",
       "      <td>2022-03-19</td>\n",
       "      <td>11:30:00</td>\n",
       "      <td>11:45:00</td>\n",
       "      <td>Sunny</td>\n",
       "      <td>High</td>\n",
       "      <td>motorcycle</td>\n",
       "      <td>Urban</td>\n",
       "      <td>120</td>\n",
       "      <td>Clothing</td>\n",
       "    </tr>\n",
       "    <tr>\n",
       "      <th>1</th>\n",
       "      <td>akqg208421122</td>\n",
       "      <td>34</td>\n",
       "      <td>4.5</td>\n",
       "      <td>12.913041</td>\n",
       "      <td>77.683237</td>\n",
       "      <td>13.043041</td>\n",
       "      <td>77.813237</td>\n",
       "      <td>2022-03-25</td>\n",
       "      <td>19:45:00</td>\n",
       "      <td>19:50:00</td>\n",
       "      <td>Stormy</td>\n",
       "      <td>Jam</td>\n",
       "      <td>scooter</td>\n",
       "      <td>Metropolitian</td>\n",
       "      <td>165</td>\n",
       "      <td>Electronics</td>\n",
       "    </tr>\n",
       "    <tr>\n",
       "      <th>2</th>\n",
       "      <td>njpu434582536</td>\n",
       "      <td>23</td>\n",
       "      <td>4.4</td>\n",
       "      <td>12.914264</td>\n",
       "      <td>77.678400</td>\n",
       "      <td>12.924264</td>\n",
       "      <td>77.688400</td>\n",
       "      <td>2022-03-19</td>\n",
       "      <td>08:30:00</td>\n",
       "      <td>08:45:00</td>\n",
       "      <td>Sandstorms</td>\n",
       "      <td>Low</td>\n",
       "      <td>motorcycle</td>\n",
       "      <td>Urban</td>\n",
       "      <td>130</td>\n",
       "      <td>Sports</td>\n",
       "    </tr>\n",
       "    <tr>\n",
       "      <th>3</th>\n",
       "      <td>rjto796129700</td>\n",
       "      <td>38</td>\n",
       "      <td>4.7</td>\n",
       "      <td>11.003669</td>\n",
       "      <td>76.976494</td>\n",
       "      <td>11.053669</td>\n",
       "      <td>77.026494</td>\n",
       "      <td>2022-04-05</td>\n",
       "      <td>18:00:00</td>\n",
       "      <td>18:10:00</td>\n",
       "      <td>Sunny</td>\n",
       "      <td>Medium</td>\n",
       "      <td>motorcycle</td>\n",
       "      <td>Metropolitian</td>\n",
       "      <td>105</td>\n",
       "      <td>Cosmetics</td>\n",
       "    </tr>\n",
       "    <tr>\n",
       "      <th>4</th>\n",
       "      <td>zguw716275638</td>\n",
       "      <td>32</td>\n",
       "      <td>4.6</td>\n",
       "      <td>12.972793</td>\n",
       "      <td>80.249982</td>\n",
       "      <td>13.012793</td>\n",
       "      <td>80.289982</td>\n",
       "      <td>2022-03-26</td>\n",
       "      <td>13:30:00</td>\n",
       "      <td>13:45:00</td>\n",
       "      <td>Cloudy</td>\n",
       "      <td>High</td>\n",
       "      <td>scooter</td>\n",
       "      <td>Metropolitian</td>\n",
       "      <td>150</td>\n",
       "      <td>Toys</td>\n",
       "    </tr>\n",
       "  </tbody>\n",
       "</table>\n",
       "</div>"
      ],
      "text/plain": [
       "        Order_ID  Agent_Age  Agent_Rating  Store_Latitude  Store_Longitude  \\\n",
       "0  ialx566343618         37           4.9       22.745049        75.892471   \n",
       "1  akqg208421122         34           4.5       12.913041        77.683237   \n",
       "2  njpu434582536         23           4.4       12.914264        77.678400   \n",
       "3  rjto796129700         38           4.7       11.003669        76.976494   \n",
       "4  zguw716275638         32           4.6       12.972793        80.249982   \n",
       "\n",
       "   Drop_Latitude  Drop_Longitude  Order_Date Order_Time Pickup_Time  \\\n",
       "0      22.765049       75.912471  2022-03-19   11:30:00    11:45:00   \n",
       "1      13.043041       77.813237  2022-03-25   19:45:00    19:50:00   \n",
       "2      12.924264       77.688400  2022-03-19   08:30:00    08:45:00   \n",
       "3      11.053669       77.026494  2022-04-05   18:00:00    18:10:00   \n",
       "4      13.012793       80.289982  2022-03-26   13:30:00    13:45:00   \n",
       "\n",
       "      Weather  Traffic      Vehicle            Area  Delivery_Time  \\\n",
       "0       Sunny    High   motorcycle           Urban             120   \n",
       "1      Stormy     Jam      scooter   Metropolitian             165   \n",
       "2  Sandstorms     Low   motorcycle           Urban             130   \n",
       "3       Sunny  Medium   motorcycle   Metropolitian             105   \n",
       "4      Cloudy    High      scooter   Metropolitian             150   \n",
       "\n",
       "      Category  \n",
       "0     Clothing  \n",
       "1  Electronics  \n",
       "2       Sports  \n",
       "3    Cosmetics  \n",
       "4         Toys  "
      ]
     },
     "execution_count": 4,
     "metadata": {},
     "output_type": "execute_result"
    }
   ],
   "source": [
    "# Read the dataset\n",
    "df = pd.read_csv('amazon_delivery.csv')\n",
    "df.head()"
   ]
  },
  {
   "cell_type": "markdown",
   "id": "74c025d5-c7eb-452f-9ffa-3f73e55ff60d",
   "metadata": {},
   "source": [
    "## Understanding the data"
   ]
  },
  {
   "cell_type": "code",
   "execution_count": 5,
   "id": "5b37bd13-1d14-4ae9-97d6-a885e9b6c4eb",
   "metadata": {},
   "outputs": [
    {
     "data": {
      "text/plain": [
       "(43739, 16)"
      ]
     },
     "execution_count": 5,
     "metadata": {},
     "output_type": "execute_result"
    }
   ],
   "source": [
    "df.shape"
   ]
  },
  {
   "cell_type": "code",
   "execution_count": 7,
   "id": "d51a7e35-c496-4c2f-8b2e-f5f3708c85a0",
   "metadata": {},
   "outputs": [
    {
     "name": "stdout",
     "output_type": "stream",
     "text": [
      "<class 'pandas.core.frame.DataFrame'>\n",
      "RangeIndex: 43739 entries, 0 to 43738\n",
      "Data columns (total 16 columns):\n",
      " #   Column           Non-Null Count  Dtype  \n",
      "---  ------           --------------  -----  \n",
      " 0   Order_ID         43739 non-null  object \n",
      " 1   Agent_Age        43739 non-null  int64  \n",
      " 2   Agent_Rating     43685 non-null  float64\n",
      " 3   Store_Latitude   43739 non-null  float64\n",
      " 4   Store_Longitude  43739 non-null  float64\n",
      " 5   Drop_Latitude    43739 non-null  float64\n",
      " 6   Drop_Longitude   43739 non-null  float64\n",
      " 7   Order_Date       43739 non-null  object \n",
      " 8   Order_Time       43739 non-null  object \n",
      " 9   Pickup_Time      43739 non-null  object \n",
      " 10  Weather          43648 non-null  object \n",
      " 11  Traffic          43739 non-null  object \n",
      " 12  Vehicle          43739 non-null  object \n",
      " 13  Area             43739 non-null  object \n",
      " 14  Delivery_Time    43739 non-null  int64  \n",
      " 15  Category         43739 non-null  object \n",
      "dtypes: float64(5), int64(2), object(9)\n",
      "memory usage: 5.3+ MB\n"
     ]
    }
   ],
   "source": [
    "df.info()"
   ]
  },
  {
   "cell_type": "code",
   "execution_count": 7,
   "id": "3ec05409-aa6b-4650-954e-f643d1869675",
   "metadata": {},
   "outputs": [
    {
     "data": {
      "text/html": [
       "<div>\n",
       "<style scoped>\n",
       "    .dataframe tbody tr th:only-of-type {\n",
       "        vertical-align: middle;\n",
       "    }\n",
       "\n",
       "    .dataframe tbody tr th {\n",
       "        vertical-align: top;\n",
       "    }\n",
       "\n",
       "    .dataframe thead th {\n",
       "        text-align: right;\n",
       "    }\n",
       "</style>\n",
       "<table border=\"1\" class=\"dataframe\">\n",
       "  <thead>\n",
       "    <tr style=\"text-align: right;\">\n",
       "      <th></th>\n",
       "      <th>Agent_Age</th>\n",
       "      <th>Agent_Rating</th>\n",
       "      <th>Store_Latitude</th>\n",
       "      <th>Store_Longitude</th>\n",
       "      <th>Drop_Latitude</th>\n",
       "      <th>Drop_Longitude</th>\n",
       "      <th>Delivery_Time</th>\n",
       "    </tr>\n",
       "  </thead>\n",
       "  <tbody>\n",
       "    <tr>\n",
       "      <th>count</th>\n",
       "      <td>43739.000000</td>\n",
       "      <td>43685.000000</td>\n",
       "      <td>43739.000000</td>\n",
       "      <td>43739.000000</td>\n",
       "      <td>43739.000000</td>\n",
       "      <td>43739.000000</td>\n",
       "      <td>43739.000000</td>\n",
       "    </tr>\n",
       "    <tr>\n",
       "      <th>mean</th>\n",
       "      <td>29.567137</td>\n",
       "      <td>4.633780</td>\n",
       "      <td>17.210960</td>\n",
       "      <td>70.661177</td>\n",
       "      <td>17.459031</td>\n",
       "      <td>70.821842</td>\n",
       "      <td>124.905645</td>\n",
       "    </tr>\n",
       "    <tr>\n",
       "      <th>std</th>\n",
       "      <td>5.815155</td>\n",
       "      <td>0.334716</td>\n",
       "      <td>7.764225</td>\n",
       "      <td>21.475005</td>\n",
       "      <td>7.342950</td>\n",
       "      <td>21.153148</td>\n",
       "      <td>51.915451</td>\n",
       "    </tr>\n",
       "    <tr>\n",
       "      <th>min</th>\n",
       "      <td>15.000000</td>\n",
       "      <td>1.000000</td>\n",
       "      <td>-30.902872</td>\n",
       "      <td>-88.366217</td>\n",
       "      <td>0.010000</td>\n",
       "      <td>0.010000</td>\n",
       "      <td>10.000000</td>\n",
       "    </tr>\n",
       "    <tr>\n",
       "      <th>25%</th>\n",
       "      <td>25.000000</td>\n",
       "      <td>4.500000</td>\n",
       "      <td>12.933298</td>\n",
       "      <td>73.170283</td>\n",
       "      <td>12.985996</td>\n",
       "      <td>73.280000</td>\n",
       "      <td>90.000000</td>\n",
       "    </tr>\n",
       "    <tr>\n",
       "      <th>50%</th>\n",
       "      <td>30.000000</td>\n",
       "      <td>4.700000</td>\n",
       "      <td>18.551440</td>\n",
       "      <td>75.898497</td>\n",
       "      <td>18.633626</td>\n",
       "      <td>76.002574</td>\n",
       "      <td>125.000000</td>\n",
       "    </tr>\n",
       "    <tr>\n",
       "      <th>75%</th>\n",
       "      <td>35.000000</td>\n",
       "      <td>4.900000</td>\n",
       "      <td>22.732225</td>\n",
       "      <td>78.045359</td>\n",
       "      <td>22.785049</td>\n",
       "      <td>78.104095</td>\n",
       "      <td>160.000000</td>\n",
       "    </tr>\n",
       "    <tr>\n",
       "      <th>max</th>\n",
       "      <td>50.000000</td>\n",
       "      <td>6.000000</td>\n",
       "      <td>30.914057</td>\n",
       "      <td>88.433452</td>\n",
       "      <td>31.054057</td>\n",
       "      <td>88.563452</td>\n",
       "      <td>270.000000</td>\n",
       "    </tr>\n",
       "  </tbody>\n",
       "</table>\n",
       "</div>"
      ],
      "text/plain": [
       "          Agent_Age  Agent_Rating  Store_Latitude  Store_Longitude  \\\n",
       "count  43739.000000  43685.000000    43739.000000     43739.000000   \n",
       "mean      29.567137      4.633780       17.210960        70.661177   \n",
       "std        5.815155      0.334716        7.764225        21.475005   \n",
       "min       15.000000      1.000000      -30.902872       -88.366217   \n",
       "25%       25.000000      4.500000       12.933298        73.170283   \n",
       "50%       30.000000      4.700000       18.551440        75.898497   \n",
       "75%       35.000000      4.900000       22.732225        78.045359   \n",
       "max       50.000000      6.000000       30.914057        88.433452   \n",
       "\n",
       "       Drop_Latitude  Drop_Longitude  Delivery_Time  \n",
       "count   43739.000000    43739.000000   43739.000000  \n",
       "mean       17.459031       70.821842     124.905645  \n",
       "std         7.342950       21.153148      51.915451  \n",
       "min         0.010000        0.010000      10.000000  \n",
       "25%        12.985996       73.280000      90.000000  \n",
       "50%        18.633626       76.002574     125.000000  \n",
       "75%        22.785049       78.104095     160.000000  \n",
       "max        31.054057       88.563452     270.000000  "
      ]
     },
     "execution_count": 7,
     "metadata": {},
     "output_type": "execute_result"
    }
   ],
   "source": [
    "df.describe()"
   ]
  },
  {
   "cell_type": "code",
   "execution_count": 11,
   "id": "a766f2d9-dca2-4c5e-9c68-60b4ccdc0469",
   "metadata": {},
   "outputs": [
    {
     "data": {
      "text/plain": [
       "0"
      ]
     },
     "execution_count": 11,
     "metadata": {},
     "output_type": "execute_result"
    }
   ],
   "source": [
    "df.duplicated().sum()"
   ]
  },
  {
   "cell_type": "code",
   "execution_count": 13,
   "id": "46892ab7-8bb1-40d4-b0ce-02657f3ecc22",
   "metadata": {},
   "outputs": [
    {
     "data": {
      "text/plain": [
       "Order_ID            object\n",
       "Agent_Age            int64\n",
       "Agent_Rating       float64\n",
       "Store_Latitude     float64\n",
       "Store_Longitude    float64\n",
       "Drop_Latitude      float64\n",
       "Drop_Longitude     float64\n",
       "Order_Date          object\n",
       "Order_Time          object\n",
       "Pickup_Time         object\n",
       "Weather             object\n",
       "Traffic             object\n",
       "Vehicle             object\n",
       "Area                object\n",
       "Delivery_Time        int64\n",
       "Category            object\n",
       "dtype: object"
      ]
     },
     "execution_count": 13,
     "metadata": {},
     "output_type": "execute_result"
    }
   ],
   "source": [
    "df.dtypes"
   ]
  },
  {
   "cell_type": "code",
   "execution_count": 15,
   "id": "49fb3957-eca3-4689-b2bc-0a812d7d94df",
   "metadata": {},
   "outputs": [
    {
     "data": {
      "text/plain": [
       "Index(['Order_ID', 'Agent_Age', 'Agent_Rating', 'Store_Latitude',\n",
       "       'Store_Longitude', 'Drop_Latitude', 'Drop_Longitude', 'Order_Date',\n",
       "       'Order_Time', 'Pickup_Time', 'Weather', 'Traffic', 'Vehicle', 'Area',\n",
       "       'Delivery_Time', 'Category'],\n",
       "      dtype='object')"
      ]
     },
     "execution_count": 15,
     "metadata": {},
     "output_type": "execute_result"
    }
   ],
   "source": [
    "df.columns"
   ]
  },
  {
   "cell_type": "code",
   "execution_count": 9,
   "id": "6b0ee99c-c3aa-41f9-bb0d-f20ce8509f30",
   "metadata": {},
   "outputs": [
    {
     "data": {
      "text/plain": [
       "Order_ID            0\n",
       "Agent_Age           0\n",
       "Agent_Rating       54\n",
       "Store_Latitude      0\n",
       "Store_Longitude     0\n",
       "Drop_Latitude       0\n",
       "Drop_Longitude      0\n",
       "Order_Date          0\n",
       "Order_Time          0\n",
       "Pickup_Time         0\n",
       "Weather            91\n",
       "Traffic             0\n",
       "Vehicle             0\n",
       "Area                0\n",
       "Delivery_Time       0\n",
       "Category            0\n",
       "dtype: int64"
      ]
     },
     "execution_count": 9,
     "metadata": {},
     "output_type": "execute_result"
    }
   ],
   "source": [
    "df.isnull().sum()"
   ]
  },
  {
   "cell_type": "markdown",
   "id": "4806f80c-aea7-4747-aac6-17ed3bbfa6ac",
   "metadata": {},
   "source": [
    "## Handling Missing Values"
   ]
  },
  {
   "cell_type": "code",
   "execution_count": 11,
   "id": "4e830a5e-f1c5-41a6-96d7-7b0957d3d846",
   "metadata": {},
   "outputs": [],
   "source": [
    "df = df.replace(r'^\\s*NaN\\s*$', np.nan, regex=True)"
   ]
  },
  {
   "cell_type": "code",
   "execution_count": 13,
   "id": "4e01bf80-5d26-403e-8566-6f313b035f3d",
   "metadata": {},
   "outputs": [
    {
     "data": {
      "text/plain": [
       "Order_ID            0\n",
       "Agent_Age           0\n",
       "Agent_Rating       54\n",
       "Store_Latitude      0\n",
       "Store_Longitude     0\n",
       "Drop_Latitude       0\n",
       "Drop_Longitude      0\n",
       "Order_Date          0\n",
       "Order_Time         91\n",
       "Pickup_Time         0\n",
       "Weather            91\n",
       "Traffic            91\n",
       "Vehicle             0\n",
       "Area                0\n",
       "Delivery_Time       0\n",
       "Category            0\n",
       "dtype: int64"
      ]
     },
     "execution_count": 13,
     "metadata": {},
     "output_type": "execute_result"
    }
   ],
   "source": [
    "df.isnull().sum()"
   ]
  },
  {
   "cell_type": "code",
   "execution_count": 15,
   "id": "3b8f5dd0-2810-4f4b-a138-729656a4a81a",
   "metadata": {},
   "outputs": [],
   "source": [
    "# Identify rows with missing Order_Time values\n",
    "missing_order_time = df['Order_Time'].isna()"
   ]
  },
  {
   "cell_type": "code",
   "execution_count": 17,
   "id": "47372630-8677-4d9f-98d1-013c2b3644a8",
   "metadata": {},
   "outputs": [],
   "source": [
    "# Function to subtract 10 minutes from a time string\n",
    "def create_order_time(pickup_time):\n",
    "    if pd.isna(pickup_time):\n",
    "        return np.nan\n",
    "    \n",
    "    # Parse the pickup time string\n",
    "    time_obj = datetime.strptime(pickup_time, '%H:%M:%S')\n",
    "    \n",
    "    # Subtract 10 minutes\n",
    "    order_time = time_obj - timedelta(minutes=10)\n",
    "    \n",
    "    # Return as string in the same format\n",
    "    return order_time.strftime('%H:%M:%S')"
   ]
  },
  {
   "cell_type": "code",
   "execution_count": 19,
   "id": "4c7eb3e2-8943-42bb-b562-dc43c9885f5d",
   "metadata": {},
   "outputs": [],
   "source": [
    "# Apply the function ONLY to rows where Order_Time is NaN\n",
    "df.loc[missing_order_time, 'Order_Time'] = df.loc[missing_order_time, 'Pickup_Time'].apply(create_order_time)"
   ]
  },
  {
   "cell_type": "code",
   "execution_count": 23,
   "id": "44145a97-a259-498d-a572-98c88b21e568",
   "metadata": {},
   "outputs": [],
   "source": [
    "# Fill missing values in using mean for numerical & mode for categoriacal columns\n",
    "df['Agent_Rating'] = df['Agent_Rating'].fillna(df['Agent_Rating'].mean())\n",
    "df['Weather'] = df['Weather'].fillna(df['Weather'].mode()[0])\n",
    "df['Traffic'] = df['Traffic'].fillna(df['Traffic'].mode()[0])"
   ]
  },
  {
   "cell_type": "code",
   "execution_count": 25,
   "id": "47dad270-a3a1-4b07-a620-3c2256d33426",
   "metadata": {},
   "outputs": [
    {
     "data": {
      "text/plain": [
       "Order_ID           0\n",
       "Agent_Age          0\n",
       "Agent_Rating       0\n",
       "Store_Latitude     0\n",
       "Store_Longitude    0\n",
       "Drop_Latitude      0\n",
       "Drop_Longitude     0\n",
       "Order_Date         0\n",
       "Order_Time         0\n",
       "Pickup_Time        0\n",
       "Weather            0\n",
       "Traffic            0\n",
       "Vehicle            0\n",
       "Area               0\n",
       "Delivery_Time      0\n",
       "Category           0\n",
       "dtype: int64"
      ]
     },
     "execution_count": 25,
     "metadata": {},
     "output_type": "execute_result"
    }
   ],
   "source": [
    "df.isnull().sum()"
   ]
  },
  {
   "cell_type": "markdown",
   "id": "085295ac-945c-427e-be67-68cfc71c7595",
   "metadata": {},
   "source": [
    "## Fixing Data Types"
   ]
  },
  {
   "cell_type": "code",
   "execution_count": 27,
   "id": "b0b87fa7-447d-4b4e-bcd0-065cfd729159",
   "metadata": {},
   "outputs": [],
   "source": [
    "# Convert date, time columns\n",
    "df['Order_Date'] = pd.to_datetime(df['Order_Date'], format='%Y-%m-%d', errors='coerce')\n",
    "df['Order_Time'] = pd.to_datetime(df['Order_Time'], format='%H:%M:%S', errors='coerce')\n",
    "df['Pickup_Time'] = pd.to_datetime(df['Pickup_Time'], format='%H:%M:%S', errors='coerce')"
   ]
  },
  {
   "cell_type": "code",
   "execution_count": 29,
   "id": "23713648-5c5c-4ced-bb40-78468b4fb600",
   "metadata": {},
   "outputs": [
    {
     "data": {
      "text/plain": [
       "Order_ID                   object\n",
       "Agent_Age                   int64\n",
       "Agent_Rating              float64\n",
       "Store_Latitude            float64\n",
       "Store_Longitude           float64\n",
       "Drop_Latitude             float64\n",
       "Drop_Longitude            float64\n",
       "Order_Date         datetime64[ns]\n",
       "Order_Time         datetime64[ns]\n",
       "Pickup_Time        datetime64[ns]\n",
       "Weather                    object\n",
       "Traffic                    object\n",
       "Vehicle                    object\n",
       "Area                       object\n",
       "Delivery_Time               int64\n",
       "Category                   object\n",
       "dtype: object"
      ]
     },
     "execution_count": 29,
     "metadata": {},
     "output_type": "execute_result"
    }
   ],
   "source": [
    "df.dtypes"
   ]
  },
  {
   "cell_type": "code",
   "execution_count": 31,
   "id": "8e889019-f9b4-4667-a20c-c8ed48d798ec",
   "metadata": {},
   "outputs": [],
   "source": [
    "# Dropping Order_ID column there's no use for model training\n",
    "df.drop('Order_ID', axis=1, inplace=True)"
   ]
  },
  {
   "cell_type": "markdown",
   "id": "01708d47-fc8f-4e78-964a-440baf830910",
   "metadata": {},
   "source": [
    "## Handling Outliers"
   ]
  },
  {
   "cell_type": "code",
   "execution_count": 33,
   "id": "2bdb5265-879d-4467-805f-d41cf4bb0965",
   "metadata": {},
   "outputs": [
    {
     "data": {
      "image/png": "[encoded data removed]",
      "text/plain": [
       "<Figure size 1500x700 with 7 Axes>"
      ]
     },
     "metadata": {},
     "output_type": "display_data"
    }
   ],
   "source": [
    "numerical_cols = ['Agent_Age','Agent_Rating', 'Store_Latitude', 'Store_Longitude', 'Drop_Latitude',\n",
    "                  'Drop_Longitude', 'Delivery_Time']\n",
    "\n",
    "plt.figure(figsize=(15, 7))\n",
    "plt.suptitle(\"Boxplots before Outliers removal\")\n",
    "for i in range(0, len(numerical_cols)):\n",
    "    plt.subplot(1, 7, i+1)\n",
    "    sns.boxplot(y=df[numerical_cols[i]],color='blue',)\n",
    "    plt.tight_layout()"
   ]
  },
  {
   "cell_type": "markdown",
   "id": "239796a4-4610-4f81-abde-504feef38603",
   "metadata": {},
   "source": [
    "**Observation:** A lower Agent_Rating (between 1 and 3) is possible, so it is not necessary to remove it as an outlier."
   ]
  },
  {
   "cell_type": "code",
   "execution_count": 35,
   "id": "1b49153d-7116-4c7d-9a98-847377c362b9",
   "metadata": {},
   "outputs": [],
   "source": [
    "# Cap Agent_Rating values above 5 to 5\n",
    "df['Agent_Rating'] = df['Agent_Rating'].apply(lambda x: 5 if x > 5 else x)"
   ]
  },
  {
   "cell_type": "code",
   "execution_count": 37,
   "id": "9989ca8b-d28e-43f1-9123-79e3b640edcd",
   "metadata": {},
   "outputs": [],
   "source": [
    "geo_columns = ['Store_Latitude', 'Store_Longitude', 'Drop_Latitude', 'Drop_Longitude']"
   ]
  },
  {
   "cell_type": "code",
   "execution_count": 39,
   "id": "7a4d40fc-880a-435e-b2ab-6100f9adf8a7",
   "metadata": {},
   "outputs": [],
   "source": [
    "for col in geo_columns:\n",
    "\n",
    "    Q1 = df[col].quantile(0.25)\n",
    "    Q3 = df[col].quantile(0.75)\n",
    "    IQR = Q3 - Q1\n",
    "\n",
    "    # Define lower and upper bound\n",
    "    lower_bound = Q1 - 1.5 * IQR\n",
    "    upper_bound = Q3 + 1.5 * IQR\n",
    "\n",
    "    # Cap values at lower and upper bound\n",
    "    df[col] = np.where(df[col] < lower_bound, lower_bound, df[col])\n",
    "    df[col] = np.where(df[col] > upper_bound, upper_bound, df[col])"
   ]
  },
  {
   "cell_type": "code",
   "execution_count": 41,
   "id": "56fe5b20-ecd1-46af-a1e6-cc22de122a95",
   "metadata": {},
   "outputs": [],
   "source": [
    "# IQR capping for Delivery_Time\n",
    "Q1 = df['Delivery_Time'].quantile(0.25)\n",
    "Q3 = df['Delivery_Time'].quantile(0.75)\n",
    "IQR = Q3 - Q1\n",
    "\n",
    "lower_bound = Q1 - 1.5 * IQR\n",
    "upper_bound = Q3 + 1.5 * IQR\n",
    "\n",
    "# Apply capping\n",
    "df['Delivery_Time'] = df['Delivery_Time'].apply(\n",
    "    lambda x: lower_bound if x < lower_bound else upper_bound if x > upper_bound else x\n",
    ")"
   ]
  },
  {
   "cell_type": "code",
   "execution_count": 43,
   "id": "ba4e8ed4-44c7-4f49-b06c-8b0ebf0e0be8",
   "metadata": {},
   "outputs": [
    {
     "data": {
      "image/png": "[encoded data removed]",
      "text/plain": [
       "<Figure size 1500x700 with 7 Axes>"
      ]
     },
     "metadata": {},
     "output_type": "display_data"
    }
   ],
   "source": [
    "numerical_cols = ['Agent_Age','Agent_Rating', 'Store_Latitude', 'Store_Longitude', 'Drop_Latitude',\n",
    "                  'Drop_Longitude', 'Delivery_Time']\n",
    "\n",
    "plt.figure(figsize=(15, 7))\n",
    "plt.suptitle(\"Boxplots after outliers Removal\")\n",
    "for i in range(0, len(numerical_cols)):\n",
    "    plt.subplot(1, 7, i+1)\n",
    "    sns.boxplot(y=df[numerical_cols[i]],color='brown')\n",
    "    plt.tight_layout()"
   ]
  },
  {
   "cell_type": "markdown",
   "id": "a8dcde10-d517-47c6-bc94-1a1a02b651ef",
   "metadata": {},
   "source": [
    "## New Feature Creation & Modification"
   ]
  },
  {
   "cell_type": "code",
   "execution_count": 45,
   "id": "ed01585b-7d31-42d0-ad35-7e06512f18ec",
   "metadata": {},
   "outputs": [],
   "source": [
    "# Calculate distance between store and drop location\n",
    "def calc_geodesic_distance(row):\n",
    "    store_coords = (row['Store_Latitude'], row['Store_Longitude'])\n",
    "    drop_coords = (row['Drop_Latitude'], row['Drop_Longitude'])\n",
    "    return geodesic(store_coords, drop_coords).kilometers\n",
    "\n",
    "# Apply to each row\n",
    "df['Distance_km'] = df.apply(calc_geodesic_distance, axis=1)"
   ]
  },
  {
   "cell_type": "code",
   "execution_count": 47,
   "id": "4751fdc1-70d0-47a5-b759-f985e63cb354",
   "metadata": {},
   "outputs": [],
   "source": [
    "# Dropping the latitude and longitude columns after created distance column\n",
    "df = df.drop(['Store_Latitude', 'Store_Longitude', 'Drop_Latitude', 'Drop_Longitude'], axis=1)"
   ]
  },
  {
   "cell_type": "code",
   "execution_count": 49,
   "id": "685fd3fc-8348-4892-92be-9aa03780cc2f",
   "metadata": {},
   "outputs": [],
   "source": [
    "# Handle pickup time on the next day\n",
    "df['Pickup_Time'] = df.apply(\n",
    "    lambda row: row['Pickup_Time'] + pd.Timedelta(days=1)\n",
    "    if row['Pickup_Time'] < row['Order_Time'] else row['Pickup_Time'],\n",
    "    axis=1\n",
    ")"
   ]
  },
  {
   "cell_type": "code",
   "execution_count": 51,
   "id": "59a325ca-ce9d-47ee-a103-af066dbd7405",
   "metadata": {},
   "outputs": [],
   "source": [
    "# Calculate time differences\n",
    "df['Order_to_Pickup_Minutes'] = (df['Pickup_Time'] - df['Order_Time']).dt.total_seconds() / 60"
   ]
  },
  {
   "cell_type": "code",
   "execution_count": 53,
   "id": "930c8143-bac4-464f-92f9-12c4f99fcd78",
   "metadata": {},
   "outputs": [],
   "source": [
    "df = df.drop(['Order_Time', 'Pickup_Time'], axis=1)"
   ]
  },
  {
   "cell_type": "code",
   "execution_count": 55,
   "id": "37445db1-86f2-40bc-b3f4-3f36425abef0",
   "metadata": {},
   "outputs": [],
   "source": [
    "# Extract day and month\n",
    "df['Order_Day'] = df['Order_Date'].dt.day\n",
    "df['Order_DayName'] = df['Order_Date'].dt.day_name()\n",
    "df['Order_Month'] = df['Order_Date'].dt.month"
   ]
  },
  {
   "cell_type": "code",
   "execution_count": 57,
   "id": "c3fc2e89-232c-45bc-8495-9e73e45f532a",
   "metadata": {},
   "outputs": [],
   "source": [
    "df = df.drop(['Order_Date'], axis=1)"
   ]
  },
  {
   "cell_type": "code",
   "execution_count": 59,
   "id": "464ac4cc-38e7-40de-bf21-f1cb521fbde1",
   "metadata": {},
   "outputs": [
    {
     "data": {
      "text/html": [
       "<div>\n",
       "<style scoped>\n",
       "    .dataframe tbody tr th:only-of-type {\n",
       "        vertical-align: middle;\n",
       "    }\n",
       "\n",
       "    .dataframe tbody tr th {\n",
       "        vertical-align: top;\n",
       "    }\n",
       "\n",
       "    .dataframe thead th {\n",
       "        text-align: right;\n",
       "    }\n",
       "</style>\n",
       "<table border=\"1\" class=\"dataframe\">\n",
       "  <thead>\n",
       "    <tr style=\"text-align: right;\">\n",
       "      <th></th>\n",
       "      <th>Agent_Age</th>\n",
       "      <th>Agent_Rating</th>\n",
       "      <th>Weather</th>\n",
       "      <th>Traffic</th>\n",
       "      <th>Vehicle</th>\n",
       "      <th>Area</th>\n",
       "      <th>Delivery_Time</th>\n",
       "      <th>Category</th>\n",
       "      <th>Distance_km</th>\n",
       "      <th>Order_to_Pickup_Minutes</th>\n",
       "      <th>Order_Day</th>\n",
       "      <th>Order_DayName</th>\n",
       "      <th>Order_Month</th>\n",
       "    </tr>\n",
       "  </thead>\n",
       "  <tbody>\n",
       "    <tr>\n",
       "      <th>0</th>\n",
       "      <td>37</td>\n",
       "      <td>4.9</td>\n",
       "      <td>Sunny</td>\n",
       "      <td>High</td>\n",
       "      <td>motorcycle</td>\n",
       "      <td>Urban</td>\n",
       "      <td>120.0</td>\n",
       "      <td>Clothing</td>\n",
       "      <td>3.020737</td>\n",
       "      <td>15.0</td>\n",
       "      <td>19</td>\n",
       "      <td>Saturday</td>\n",
       "      <td>3</td>\n",
       "    </tr>\n",
       "    <tr>\n",
       "      <th>1</th>\n",
       "      <td>34</td>\n",
       "      <td>4.5</td>\n",
       "      <td>Stormy</td>\n",
       "      <td>Jam</td>\n",
       "      <td>scooter</td>\n",
       "      <td>Metropolitian</td>\n",
       "      <td>165.0</td>\n",
       "      <td>Electronics</td>\n",
       "      <td>20.143737</td>\n",
       "      <td>5.0</td>\n",
       "      <td>25</td>\n",
       "      <td>Friday</td>\n",
       "      <td>3</td>\n",
       "    </tr>\n",
       "    <tr>\n",
       "      <th>2</th>\n",
       "      <td>23</td>\n",
       "      <td>4.4</td>\n",
       "      <td>Sandstorms</td>\n",
       "      <td>Low</td>\n",
       "      <td>motorcycle</td>\n",
       "      <td>Urban</td>\n",
       "      <td>130.0</td>\n",
       "      <td>Sports</td>\n",
       "      <td>1.549693</td>\n",
       "      <td>15.0</td>\n",
       "      <td>19</td>\n",
       "      <td>Saturday</td>\n",
       "      <td>3</td>\n",
       "    </tr>\n",
       "    <tr>\n",
       "      <th>3</th>\n",
       "      <td>38</td>\n",
       "      <td>4.7</td>\n",
       "      <td>Sunny</td>\n",
       "      <td>Medium</td>\n",
       "      <td>motorcycle</td>\n",
       "      <td>Metropolitian</td>\n",
       "      <td>105.0</td>\n",
       "      <td>Cosmetics</td>\n",
       "      <td>7.774497</td>\n",
       "      <td>10.0</td>\n",
       "      <td>5</td>\n",
       "      <td>Tuesday</td>\n",
       "      <td>4</td>\n",
       "    </tr>\n",
       "    <tr>\n",
       "      <th>4</th>\n",
       "      <td>32</td>\n",
       "      <td>4.6</td>\n",
       "      <td>Cloudy</td>\n",
       "      <td>High</td>\n",
       "      <td>scooter</td>\n",
       "      <td>Metropolitian</td>\n",
       "      <td>150.0</td>\n",
       "      <td>Toys</td>\n",
       "      <td>6.197898</td>\n",
       "      <td>15.0</td>\n",
       "      <td>26</td>\n",
       "      <td>Saturday</td>\n",
       "      <td>3</td>\n",
       "    </tr>\n",
       "  </tbody>\n",
       "</table>\n",
       "</div>"
      ],
      "text/plain": [
       "   Agent_Age  Agent_Rating     Weather  Traffic      Vehicle            Area  \\\n",
       "0         37           4.9       Sunny    High   motorcycle           Urban    \n",
       "1         34           4.5      Stormy     Jam      scooter   Metropolitian    \n",
       "2         23           4.4  Sandstorms     Low   motorcycle           Urban    \n",
       "3         38           4.7       Sunny  Medium   motorcycle   Metropolitian    \n",
       "4         32           4.6      Cloudy    High      scooter   Metropolitian    \n",
       "\n",
       "   Delivery_Time     Category  Distance_km  Order_to_Pickup_Minutes  \\\n",
       "0          120.0     Clothing     3.020737                     15.0   \n",
       "1          165.0  Electronics    20.143737                      5.0   \n",
       "2          130.0       Sports     1.549693                     15.0   \n",
       "3          105.0    Cosmetics     7.774497                     10.0   \n",
       "4          150.0         Toys     6.197898                     15.0   \n",
       "\n",
       "   Order_Day Order_DayName  Order_Month  \n",
       "0         19      Saturday            3  \n",
       "1         25        Friday            3  \n",
       "2         19      Saturday            3  \n",
       "3          5       Tuesday            4  \n",
       "4         26      Saturday            3  "
      ]
     },
     "execution_count": 59,
     "metadata": {},
     "output_type": "execute_result"
    }
   ],
   "source": [
    "df.head()"
   ]
  },
  {
   "cell_type": "code",
   "execution_count": 61,
   "id": "fdc7879a-f1db-4181-b36a-e6a4ee0760e0",
   "metadata": {},
   "outputs": [],
   "source": [
    "# save cleaned data\n",
    "df.to_csv('cleaned_data.csv', index=False)"
   ]
  },
  {
   "cell_type": "markdown",
   "id": "360821e9-b268-44d1-964d-56988ce71113",
   "metadata": {},
   "source": [
    "## Encoding the categorical columns"
   ]
  },
  {
   "cell_type": "markdown",
   "id": "3a90fcbd-8713-4353-a027-3d6aa00f33cf",
   "metadata": {},
   "source": [
    "### Nominal columns"
   ]
  },
  {
   "cell_type": "code",
   "execution_count": 63,
   "id": "8cc5bb9b-3dc3-462c-899c-7ee10ffe3e7b",
   "metadata": {},
   "outputs": [],
   "source": [
    "nominal_data = ['Weather', 'Vehicle', 'Area', 'Category']"
   ]
  },
  {
   "cell_type": "code",
   "execution_count": 65,
   "id": "b726198e-2a40-4924-b254-1c9b6acc739f",
   "metadata": {},
   "outputs": [],
   "source": [
    "# Define One-Hot Encoder\n",
    "ohe = OneHotEncoder(drop='first', handle_unknown='ignore')\n",
    "\n",
    "\n",
    "# Fit and Transform\n",
    "encoded_array = ohe.fit_transform(df[nominal_data]).toarray()\n",
    "\n",
    "# Convert Encoded Data to DataFrame\n",
    "encoded_df = pd.DataFrame(encoded_array, columns=ohe.get_feature_names_out(nominal_data))\n",
    "encoded_df = encoded_df.astype(int)\n",
    "\n",
    "\n",
    "# Concatenate with Original DataFrame (Drop Original Categorical Columns)\n",
    "data = pd.concat([df.drop(columns=nominal_data), encoded_df], axis=1)"
   ]
  },
  {
   "cell_type": "code",
   "execution_count": 67,
   "id": "d2b804a7-9ac8-40e9-9992-7aa98c1141cf",
   "metadata": {},
   "outputs": [
    {
     "data": {
      "text/html": [
       "<div>\n",
       "<style scoped>\n",
       "    .dataframe tbody tr th:only-of-type {\n",
       "        vertical-align: middle;\n",
       "    }\n",
       "\n",
       "    .dataframe tbody tr th {\n",
       "        vertical-align: top;\n",
       "    }\n",
       "\n",
       "    .dataframe thead th {\n",
       "        text-align: right;\n",
       "    }\n",
       "</style>\n",
       "<table border=\"1\" class=\"dataframe\">\n",
       "  <thead>\n",
       "    <tr style=\"text-align: right;\">\n",
       "      <th></th>\n",
       "      <th>Agent_Age</th>\n",
       "      <th>Agent_Rating</th>\n",
       "      <th>Traffic</th>\n",
       "      <th>Delivery_Time</th>\n",
       "      <th>Distance_km</th>\n",
       "      <th>Order_to_Pickup_Minutes</th>\n",
       "      <th>Order_Day</th>\n",
       "      <th>Order_DayName</th>\n",
       "      <th>Order_Month</th>\n",
       "      <th>Weather_Fog</th>\n",
       "      <th>...</th>\n",
       "      <th>Category_Home</th>\n",
       "      <th>Category_Jewelry</th>\n",
       "      <th>Category_Kitchen</th>\n",
       "      <th>Category_Outdoors</th>\n",
       "      <th>Category_Pet Supplies</th>\n",
       "      <th>Category_Shoes</th>\n",
       "      <th>Category_Skincare</th>\n",
       "      <th>Category_Snacks</th>\n",
       "      <th>Category_Sports</th>\n",
       "      <th>Category_Toys</th>\n",
       "    </tr>\n",
       "  </thead>\n",
       "  <tbody>\n",
       "    <tr>\n",
       "      <th>0</th>\n",
       "      <td>37</td>\n",
       "      <td>4.9</td>\n",
       "      <td>High</td>\n",
       "      <td>120.0</td>\n",
       "      <td>3.020737</td>\n",
       "      <td>15.0</td>\n",
       "      <td>19</td>\n",
       "      <td>Saturday</td>\n",
       "      <td>3</td>\n",
       "      <td>0</td>\n",
       "      <td>...</td>\n",
       "      <td>0</td>\n",
       "      <td>0</td>\n",
       "      <td>0</td>\n",
       "      <td>0</td>\n",
       "      <td>0</td>\n",
       "      <td>0</td>\n",
       "      <td>0</td>\n",
       "      <td>0</td>\n",
       "      <td>0</td>\n",
       "      <td>0</td>\n",
       "    </tr>\n",
       "    <tr>\n",
       "      <th>1</th>\n",
       "      <td>34</td>\n",
       "      <td>4.5</td>\n",
       "      <td>Jam</td>\n",
       "      <td>165.0</td>\n",
       "      <td>20.143737</td>\n",
       "      <td>5.0</td>\n",
       "      <td>25</td>\n",
       "      <td>Friday</td>\n",
       "      <td>3</td>\n",
       "      <td>0</td>\n",
       "      <td>...</td>\n",
       "      <td>0</td>\n",
       "      <td>0</td>\n",
       "      <td>0</td>\n",
       "      <td>0</td>\n",
       "      <td>0</td>\n",
       "      <td>0</td>\n",
       "      <td>0</td>\n",
       "      <td>0</td>\n",
       "      <td>0</td>\n",
       "      <td>0</td>\n",
       "    </tr>\n",
       "    <tr>\n",
       "      <th>2</th>\n",
       "      <td>23</td>\n",
       "      <td>4.4</td>\n",
       "      <td>Low</td>\n",
       "      <td>130.0</td>\n",
       "      <td>1.549693</td>\n",
       "      <td>15.0</td>\n",
       "      <td>19</td>\n",
       "      <td>Saturday</td>\n",
       "      <td>3</td>\n",
       "      <td>0</td>\n",
       "      <td>...</td>\n",
       "      <td>0</td>\n",
       "      <td>0</td>\n",
       "      <td>0</td>\n",
       "      <td>0</td>\n",
       "      <td>0</td>\n",
       "      <td>0</td>\n",
       "      <td>0</td>\n",
       "      <td>0</td>\n",
       "      <td>1</td>\n",
       "      <td>0</td>\n",
       "    </tr>\n",
       "    <tr>\n",
       "      <th>3</th>\n",
       "      <td>38</td>\n",
       "      <td>4.7</td>\n",
       "      <td>Medium</td>\n",
       "      <td>105.0</td>\n",
       "      <td>7.774497</td>\n",
       "      <td>10.0</td>\n",
       "      <td>5</td>\n",
       "      <td>Tuesday</td>\n",
       "      <td>4</td>\n",
       "      <td>0</td>\n",
       "      <td>...</td>\n",
       "      <td>0</td>\n",
       "      <td>0</td>\n",
       "      <td>0</td>\n",
       "      <td>0</td>\n",
       "      <td>0</td>\n",
       "      <td>0</td>\n",
       "      <td>0</td>\n",
       "      <td>0</td>\n",
       "      <td>0</td>\n",
       "      <td>0</td>\n",
       "    </tr>\n",
       "    <tr>\n",
       "      <th>4</th>\n",
       "      <td>32</td>\n",
       "      <td>4.6</td>\n",
       "      <td>High</td>\n",
       "      <td>150.0</td>\n",
       "      <td>6.197898</td>\n",
       "      <td>15.0</td>\n",
       "      <td>26</td>\n",
       "      <td>Saturday</td>\n",
       "      <td>3</td>\n",
       "      <td>0</td>\n",
       "      <td>...</td>\n",
       "      <td>0</td>\n",
       "      <td>0</td>\n",
       "      <td>0</td>\n",
       "      <td>0</td>\n",
       "      <td>0</td>\n",
       "      <td>0</td>\n",
       "      <td>0</td>\n",
       "      <td>0</td>\n",
       "      <td>0</td>\n",
       "      <td>1</td>\n",
       "    </tr>\n",
       "  </tbody>\n",
       "</table>\n",
       "<p>5 rows × 35 columns</p>\n",
       "</div>"
      ],
      "text/plain": [
       "   Agent_Age  Agent_Rating  Traffic  Delivery_Time  Distance_km  \\\n",
       "0         37           4.9    High           120.0     3.020737   \n",
       "1         34           4.5     Jam           165.0    20.143737   \n",
       "2         23           4.4     Low           130.0     1.549693   \n",
       "3         38           4.7  Medium           105.0     7.774497   \n",
       "4         32           4.6    High           150.0     6.197898   \n",
       "\n",
       "   Order_to_Pickup_Minutes  Order_Day Order_DayName  Order_Month  Weather_Fog  \\\n",
       "0                     15.0         19      Saturday            3            0   \n",
       "1                      5.0         25        Friday            3            0   \n",
       "2                     15.0         19      Saturday            3            0   \n",
       "3                     10.0          5       Tuesday            4            0   \n",
       "4                     15.0         26      Saturday            3            0   \n",
       "\n",
       "   ...  Category_Home  Category_Jewelry  Category_Kitchen  Category_Outdoors  \\\n",
       "0  ...              0                 0                 0                  0   \n",
       "1  ...              0                 0                 0                  0   \n",
       "2  ...              0                 0                 0                  0   \n",
       "3  ...              0                 0                 0                  0   \n",
       "4  ...              0                 0                 0                  0   \n",
       "\n",
       "   Category_Pet Supplies  Category_Shoes  Category_Skincare  Category_Snacks  \\\n",
       "0                      0               0                  0                0   \n",
       "1                      0               0                  0                0   \n",
       "2                      0               0                  0                0   \n",
       "3                      0               0                  0                0   \n",
       "4                      0               0                  0                0   \n",
       "\n",
       "   Category_Sports  Category_Toys  \n",
       "0                0              0  \n",
       "1                0              0  \n",
       "2                1              0  \n",
       "3                0              0  \n",
       "4                0              1  \n",
       "\n",
       "[5 rows x 35 columns]"
      ]
     },
     "execution_count": 67,
     "metadata": {},
     "output_type": "execute_result"
    }
   ],
   "source": [
    "data.head()"
   ]
  },
  {
   "cell_type": "markdown",
   "id": "3d2b8534-1869-47d1-b7c6-f4cc0dde83e1",
   "metadata": {},
   "source": [
    "### Ordinal"
   ]
  },
  {
   "cell_type": "code",
   "execution_count": 69,
   "id": "2401c6aa-d4e6-438b-bc12-9f7a1c457053",
   "metadata": {},
   "outputs": [
    {
     "data": {
      "text/plain": [
       "array(['High ', 'Jam ', 'Low ', 'Medium '], dtype=object)"
      ]
     },
     "execution_count": 69,
     "metadata": {},
     "output_type": "execute_result"
    }
   ],
   "source": [
    "data['Traffic'].unique()"
   ]
  },
  {
   "cell_type": "code",
   "execution_count": 71,
   "id": "5f51d42f-80ae-4781-8812-0295d6a058a6",
   "metadata": {},
   "outputs": [],
   "source": [
    "traffic_order = ['Low ', 'Medium ', 'High ', 'Jam ']\n",
    "\n",
    "# Define Encoder with Custom Order\n",
    "ordinal_encoder = OrdinalEncoder(categories=[traffic_order])\n",
    "\n",
    "# Fit and Transform\n",
    "data['Traffic'] = ordinal_encoder.fit_transform(data[['Traffic']])\n",
    "\n",
    "data['Traffic'] = data['Traffic'].astype(int)"
   ]
  },
  {
   "cell_type": "code",
   "execution_count": 73,
   "id": "3478ed3a-7d20-459c-bb58-6293a3ff66a1",
   "metadata": {},
   "outputs": [
    {
     "data": {
      "text/plain": [
       "array([2, 3, 0, 1])"
      ]
     },
     "execution_count": 73,
     "metadata": {},
     "output_type": "execute_result"
    }
   ],
   "source": [
    "data['Traffic'].unique()"
   ]
  },
  {
   "cell_type": "code",
   "execution_count": 75,
   "id": "8c8f7714-9aa4-4b64-a3d6-a2bd25079adf",
   "metadata": {},
   "outputs": [
    {
     "data": {
      "text/plain": [
       "array(['Saturday', 'Friday', 'Tuesday', 'Monday', 'Sunday', 'Wednesday',\n",
       "       'Thursday'], dtype=object)"
      ]
     },
     "execution_count": 75,
     "metadata": {},
     "output_type": "execute_result"
    }
   ],
   "source": [
    "data['Order_DayName'].unique()"
   ]
  },
  {
   "cell_type": "code",
   "execution_count": 77,
   "id": "884a7778-f51d-45a4-bd9c-ed97e64e1278",
   "metadata": {},
   "outputs": [],
   "source": [
    "day_order = ['Monday', 'Tuesday', 'Wednesday', 'Thursday', 'Friday', 'Saturday', 'Sunday']\n",
    "\n",
    "# Define Encoder with Custom Order\n",
    "day_ordinal_encoder = OrdinalEncoder(categories=[day_order])\n",
    "\n",
    "# Fit and Transform\n",
    "data['Order_DayName'] = day_ordinal_encoder.fit_transform(data[['Order_DayName']])\n",
    "\n",
    "data['Order_DayName'] = data['Order_DayName'].astype(int)"
   ]
  },
  {
   "cell_type": "code",
   "execution_count": 79,
   "id": "16e44d0a-dbee-43e0-82ed-ef83b8e4feec",
   "metadata": {},
   "outputs": [
    {
     "data": {
      "text/plain": [
       "array([5, 4, 1, 0, 6, 2, 3])"
      ]
     },
     "execution_count": 79,
     "metadata": {},
     "output_type": "execute_result"
    }
   ],
   "source": [
    "data['Order_DayName'].unique()"
   ]
  },
  {
   "cell_type": "code",
   "execution_count": 81,
   "id": "63e54109-d693-45a5-a44d-9cf5d9bedf23",
   "metadata": {},
   "outputs": [
    {
     "data": {
      "text/html": [
       "<div>\n",
       "<style scoped>\n",
       "    .dataframe tbody tr th:only-of-type {\n",
       "        vertical-align: middle;\n",
       "    }\n",
       "\n",
       "    .dataframe tbody tr th {\n",
       "        vertical-align: top;\n",
       "    }\n",
       "\n",
       "    .dataframe thead th {\n",
       "        text-align: right;\n",
       "    }\n",
       "</style>\n",
       "<table border=\"1\" class=\"dataframe\">\n",
       "  <thead>\n",
       "    <tr style=\"text-align: right;\">\n",
       "      <th></th>\n",
       "      <th>Agent_Age</th>\n",
       "      <th>Agent_Rating</th>\n",
       "      <th>Traffic</th>\n",
       "      <th>Delivery_Time</th>\n",
       "      <th>Distance_km</th>\n",
       "      <th>Order_to_Pickup_Minutes</th>\n",
       "      <th>Order_Day</th>\n",
       "      <th>Order_DayName</th>\n",
       "      <th>Order_Month</th>\n",
       "      <th>Weather_Fog</th>\n",
       "      <th>...</th>\n",
       "      <th>Category_Home</th>\n",
       "      <th>Category_Jewelry</th>\n",
       "      <th>Category_Kitchen</th>\n",
       "      <th>Category_Outdoors</th>\n",
       "      <th>Category_Pet Supplies</th>\n",
       "      <th>Category_Shoes</th>\n",
       "      <th>Category_Skincare</th>\n",
       "      <th>Category_Snacks</th>\n",
       "      <th>Category_Sports</th>\n",
       "      <th>Category_Toys</th>\n",
       "    </tr>\n",
       "  </thead>\n",
       "  <tbody>\n",
       "    <tr>\n",
       "      <th>0</th>\n",
       "      <td>37</td>\n",
       "      <td>4.9</td>\n",
       "      <td>2</td>\n",
       "      <td>120.0</td>\n",
       "      <td>3.020737</td>\n",
       "      <td>15.0</td>\n",
       "      <td>19</td>\n",
       "      <td>5</td>\n",
       "      <td>3</td>\n",
       "      <td>0</td>\n",
       "      <td>...</td>\n",
       "      <td>0</td>\n",
       "      <td>0</td>\n",
       "      <td>0</td>\n",
       "      <td>0</td>\n",
       "      <td>0</td>\n",
       "      <td>0</td>\n",
       "      <td>0</td>\n",
       "      <td>0</td>\n",
       "      <td>0</td>\n",
       "      <td>0</td>\n",
       "    </tr>\n",
       "    <tr>\n",
       "      <th>1</th>\n",
       "      <td>34</td>\n",
       "      <td>4.5</td>\n",
       "      <td>3</td>\n",
       "      <td>165.0</td>\n",
       "      <td>20.143737</td>\n",
       "      <td>5.0</td>\n",
       "      <td>25</td>\n",
       "      <td>4</td>\n",
       "      <td>3</td>\n",
       "      <td>0</td>\n",
       "      <td>...</td>\n",
       "      <td>0</td>\n",
       "      <td>0</td>\n",
       "      <td>0</td>\n",
       "      <td>0</td>\n",
       "      <td>0</td>\n",
       "      <td>0</td>\n",
       "      <td>0</td>\n",
       "      <td>0</td>\n",
       "      <td>0</td>\n",
       "      <td>0</td>\n",
       "    </tr>\n",
       "    <tr>\n",
       "      <th>2</th>\n",
       "      <td>23</td>\n",
       "      <td>4.4</td>\n",
       "      <td>0</td>\n",
       "      <td>130.0</td>\n",
       "      <td>1.549693</td>\n",
       "      <td>15.0</td>\n",
       "      <td>19</td>\n",
       "      <td>5</td>\n",
       "      <td>3</td>\n",
       "      <td>0</td>\n",
       "      <td>...</td>\n",
       "      <td>0</td>\n",
       "      <td>0</td>\n",
       "      <td>0</td>\n",
       "      <td>0</td>\n",
       "      <td>0</td>\n",
       "      <td>0</td>\n",
       "      <td>0</td>\n",
       "      <td>0</td>\n",
       "      <td>1</td>\n",
       "      <td>0</td>\n",
       "    </tr>\n",
       "    <tr>\n",
       "      <th>3</th>\n",
       "      <td>38</td>\n",
       "      <td>4.7</td>\n",
       "      <td>1</td>\n",
       "      <td>105.0</td>\n",
       "      <td>7.774497</td>\n",
       "      <td>10.0</td>\n",
       "      <td>5</td>\n",
       "      <td>1</td>\n",
       "      <td>4</td>\n",
       "      <td>0</td>\n",
       "      <td>...</td>\n",
       "      <td>0</td>\n",
       "      <td>0</td>\n",
       "      <td>0</td>\n",
       "      <td>0</td>\n",
       "      <td>0</td>\n",
       "      <td>0</td>\n",
       "      <td>0</td>\n",
       "      <td>0</td>\n",
       "      <td>0</td>\n",
       "      <td>0</td>\n",
       "    </tr>\n",
       "    <tr>\n",
       "      <th>4</th>\n",
       "      <td>32</td>\n",
       "      <td>4.6</td>\n",
       "      <td>2</td>\n",
       "      <td>150.0</td>\n",
       "      <td>6.197898</td>\n",
       "      <td>15.0</td>\n",
       "      <td>26</td>\n",
       "      <td>5</td>\n",
       "      <td>3</td>\n",
       "      <td>0</td>\n",
       "      <td>...</td>\n",
       "      <td>0</td>\n",
       "      <td>0</td>\n",
       "      <td>0</td>\n",
       "      <td>0</td>\n",
       "      <td>0</td>\n",
       "      <td>0</td>\n",
       "      <td>0</td>\n",
       "      <td>0</td>\n",
       "      <td>0</td>\n",
       "      <td>1</td>\n",
       "    </tr>\n",
       "  </tbody>\n",
       "</table>\n",
       "<p>5 rows × 35 columns</p>\n",
       "</div>"
      ],
      "text/plain": [
       "   Agent_Age  Agent_Rating  Traffic  Delivery_Time  Distance_km  \\\n",
       "0         37           4.9        2          120.0     3.020737   \n",
       "1         34           4.5        3          165.0    20.143737   \n",
       "2         23           4.4        0          130.0     1.549693   \n",
       "3         38           4.7        1          105.0     7.774497   \n",
       "4         32           4.6        2          150.0     6.197898   \n",
       "\n",
       "   Order_to_Pickup_Minutes  Order_Day  Order_DayName  Order_Month  \\\n",
       "0                     15.0         19              5            3   \n",
       "1                      5.0         25              4            3   \n",
       "2                     15.0         19              5            3   \n",
       "3                     10.0          5              1            4   \n",
       "4                     15.0         26              5            3   \n",
       "\n",
       "   Weather_Fog  ...  Category_Home  Category_Jewelry  Category_Kitchen  \\\n",
       "0            0  ...              0                 0                 0   \n",
       "1            0  ...              0                 0                 0   \n",
       "2            0  ...              0                 0                 0   \n",
       "3            0  ...              0                 0                 0   \n",
       "4            0  ...              0                 0                 0   \n",
       "\n",
       "   Category_Outdoors  Category_Pet Supplies  Category_Shoes  \\\n",
       "0                  0                      0               0   \n",
       "1                  0                      0               0   \n",
       "2                  0                      0               0   \n",
       "3                  0                      0               0   \n",
       "4                  0                      0               0   \n",
       "\n",
       "   Category_Skincare  Category_Snacks  Category_Sports  Category_Toys  \n",
       "0                  0                0                0              0  \n",
       "1                  0                0                0              0  \n",
       "2                  0                0                1              0  \n",
       "3                  0                0                0              0  \n",
       "4                  0                0                0              1  \n",
       "\n",
       "[5 rows x 35 columns]"
      ]
     },
     "execution_count": 81,
     "metadata": {},
     "output_type": "execute_result"
    }
   ],
   "source": [
    "data.head()"
   ]
  },
  {
   "cell_type": "markdown",
   "id": "c63ea8b8-ef99-452a-a55d-e416298e0ed3",
   "metadata": {},
   "source": [
    "## Standard scaling for Distance_km"
   ]
  },
  {
   "cell_type": "code",
   "execution_count": 83,
   "id": "41a6307d-78aa-4bd7-aec3-20f6491b2b77",
   "metadata": {},
   "outputs": [],
   "source": [
    "scaler = StandardScaler()\n",
    "data['Distance_km'] = scaler.fit_transform(data[['Distance_km']])"
   ]
  },
  {
   "cell_type": "code",
   "execution_count": 85,
   "id": "7c7d579a-0b76-4418-956a-67d0540f7228",
   "metadata": {},
   "outputs": [
    {
     "data": {
      "text/html": [
       "<div>\n",
       "<style scoped>\n",
       "    .dataframe tbody tr th:only-of-type {\n",
       "        vertical-align: middle;\n",
       "    }\n",
       "\n",
       "    .dataframe tbody tr th {\n",
       "        vertical-align: top;\n",
       "    }\n",
       "\n",
       "    .dataframe thead th {\n",
       "        text-align: right;\n",
       "    }\n",
       "</style>\n",
       "<table border=\"1\" class=\"dataframe\">\n",
       "  <thead>\n",
       "    <tr style=\"text-align: right;\">\n",
       "      <th></th>\n",
       "      <th>Agent_Age</th>\n",
       "      <th>Agent_Rating</th>\n",
       "      <th>Traffic</th>\n",
       "      <th>Delivery_Time</th>\n",
       "      <th>Distance_km</th>\n",
       "      <th>Order_to_Pickup_Minutes</th>\n",
       "      <th>Order_Day</th>\n",
       "      <th>Order_DayName</th>\n",
       "      <th>Order_Month</th>\n",
       "      <th>Weather_Fog</th>\n",
       "      <th>...</th>\n",
       "      <th>Category_Home</th>\n",
       "      <th>Category_Jewelry</th>\n",
       "      <th>Category_Kitchen</th>\n",
       "      <th>Category_Outdoors</th>\n",
       "      <th>Category_Pet Supplies</th>\n",
       "      <th>Category_Shoes</th>\n",
       "      <th>Category_Skincare</th>\n",
       "      <th>Category_Snacks</th>\n",
       "      <th>Category_Sports</th>\n",
       "      <th>Category_Toys</th>\n",
       "    </tr>\n",
       "  </thead>\n",
       "  <tbody>\n",
       "    <tr>\n",
       "      <th>0</th>\n",
       "      <td>37</td>\n",
       "      <td>4.9</td>\n",
       "      <td>2</td>\n",
       "      <td>120.0</td>\n",
       "      <td>-0.106003</td>\n",
       "      <td>15.0</td>\n",
       "      <td>19</td>\n",
       "      <td>5</td>\n",
       "      <td>3</td>\n",
       "      <td>0</td>\n",
       "      <td>...</td>\n",
       "      <td>0</td>\n",
       "      <td>0</td>\n",
       "      <td>0</td>\n",
       "      <td>0</td>\n",
       "      <td>0</td>\n",
       "      <td>0</td>\n",
       "      <td>0</td>\n",
       "      <td>0</td>\n",
       "      <td>0</td>\n",
       "      <td>0</td>\n",
       "    </tr>\n",
       "    <tr>\n",
       "      <th>1</th>\n",
       "      <td>34</td>\n",
       "      <td>4.5</td>\n",
       "      <td>3</td>\n",
       "      <td>165.0</td>\n",
       "      <td>-0.009540</td>\n",
       "      <td>5.0</td>\n",
       "      <td>25</td>\n",
       "      <td>4</td>\n",
       "      <td>3</td>\n",
       "      <td>0</td>\n",
       "      <td>...</td>\n",
       "      <td>0</td>\n",
       "      <td>0</td>\n",
       "      <td>0</td>\n",
       "      <td>0</td>\n",
       "      <td>0</td>\n",
       "      <td>0</td>\n",
       "      <td>0</td>\n",
       "      <td>0</td>\n",
       "      <td>0</td>\n",
       "      <td>0</td>\n",
       "    </tr>\n",
       "    <tr>\n",
       "      <th>2</th>\n",
       "      <td>23</td>\n",
       "      <td>4.4</td>\n",
       "      <td>0</td>\n",
       "      <td>130.0</td>\n",
       "      <td>-0.114290</td>\n",
       "      <td>15.0</td>\n",
       "      <td>19</td>\n",
       "      <td>5</td>\n",
       "      <td>3</td>\n",
       "      <td>0</td>\n",
       "      <td>...</td>\n",
       "      <td>0</td>\n",
       "      <td>0</td>\n",
       "      <td>0</td>\n",
       "      <td>0</td>\n",
       "      <td>0</td>\n",
       "      <td>0</td>\n",
       "      <td>0</td>\n",
       "      <td>0</td>\n",
       "      <td>1</td>\n",
       "      <td>0</td>\n",
       "    </tr>\n",
       "    <tr>\n",
       "      <th>3</th>\n",
       "      <td>38</td>\n",
       "      <td>4.7</td>\n",
       "      <td>1</td>\n",
       "      <td>105.0</td>\n",
       "      <td>-0.079223</td>\n",
       "      <td>10.0</td>\n",
       "      <td>5</td>\n",
       "      <td>1</td>\n",
       "      <td>4</td>\n",
       "      <td>0</td>\n",
       "      <td>...</td>\n",
       "      <td>0</td>\n",
       "      <td>0</td>\n",
       "      <td>0</td>\n",
       "      <td>0</td>\n",
       "      <td>0</td>\n",
       "      <td>0</td>\n",
       "      <td>0</td>\n",
       "      <td>0</td>\n",
       "      <td>0</td>\n",
       "      <td>0</td>\n",
       "    </tr>\n",
       "    <tr>\n",
       "      <th>4</th>\n",
       "      <td>32</td>\n",
       "      <td>4.6</td>\n",
       "      <td>2</td>\n",
       "      <td>150.0</td>\n",
       "      <td>-0.088104</td>\n",
       "      <td>15.0</td>\n",
       "      <td>26</td>\n",
       "      <td>5</td>\n",
       "      <td>3</td>\n",
       "      <td>0</td>\n",
       "      <td>...</td>\n",
       "      <td>0</td>\n",
       "      <td>0</td>\n",
       "      <td>0</td>\n",
       "      <td>0</td>\n",
       "      <td>0</td>\n",
       "      <td>0</td>\n",
       "      <td>0</td>\n",
       "      <td>0</td>\n",
       "      <td>0</td>\n",
       "      <td>1</td>\n",
       "    </tr>\n",
       "  </tbody>\n",
       "</table>\n",
       "<p>5 rows × 35 columns</p>\n",
       "</div>"
      ],
      "text/plain": [
       "   Agent_Age  Agent_Rating  Traffic  Delivery_Time  Distance_km  \\\n",
       "0         37           4.9        2          120.0    -0.106003   \n",
       "1         34           4.5        3          165.0    -0.009540   \n",
       "2         23           4.4        0          130.0    -0.114290   \n",
       "3         38           4.7        1          105.0    -0.079223   \n",
       "4         32           4.6        2          150.0    -0.088104   \n",
       "\n",
       "   Order_to_Pickup_Minutes  Order_Day  Order_DayName  Order_Month  \\\n",
       "0                     15.0         19              5            3   \n",
       "1                      5.0         25              4            3   \n",
       "2                     15.0         19              5            3   \n",
       "3                     10.0          5              1            4   \n",
       "4                     15.0         26              5            3   \n",
       "\n",
       "   Weather_Fog  ...  Category_Home  Category_Jewelry  Category_Kitchen  \\\n",
       "0            0  ...              0                 0                 0   \n",
       "1            0  ...              0                 0                 0   \n",
       "2            0  ...              0                 0                 0   \n",
       "3            0  ...              0                 0                 0   \n",
       "4            0  ...              0                 0                 0   \n",
       "\n",
       "   Category_Outdoors  Category_Pet Supplies  Category_Shoes  \\\n",
       "0                  0                      0               0   \n",
       "1                  0                      0               0   \n",
       "2                  0                      0               0   \n",
       "3                  0                      0               0   \n",
       "4                  0                      0               0   \n",
       "\n",
       "   Category_Skincare  Category_Snacks  Category_Sports  Category_Toys  \n",
       "0                  0                0                0              0  \n",
       "1                  0                0                0              0  \n",
       "2                  0                0                1              0  \n",
       "3                  0                0                0              0  \n",
       "4                  0                0                0              1  \n",
       "\n",
       "[5 rows x 35 columns]"
      ]
     },
     "execution_count": 85,
     "metadata": {},
     "output_type": "execute_result"
    }
   ],
   "source": [
    "data.head()"
   ]
  },
  {
   "cell_type": "code",
   "execution_count": 87,
   "id": "759fb8c3-64a1-45eb-a83d-0e068e042d5d",
   "metadata": {},
   "outputs": [
    {
     "data": {
      "text/plain": [
       "Index(['Agent_Age', 'Agent_Rating', 'Traffic', 'Delivery_Time', 'Distance_km',\n",
       "       'Order_to_Pickup_Minutes', 'Order_Day', 'Order_DayName', 'Order_Month',\n",
       "       'Weather_Fog', 'Weather_Sandstorms', 'Weather_Stormy', 'Weather_Sunny',\n",
       "       'Weather_Windy', 'Vehicle_motorcycle ', 'Vehicle_scooter ',\n",
       "       'Vehicle_van', 'Area_Other', 'Area_Semi-Urban ', 'Area_Urban ',\n",
       "       'Category_Books', 'Category_Clothing', 'Category_Cosmetics',\n",
       "       'Category_Electronics', 'Category_Grocery', 'Category_Home',\n",
       "       'Category_Jewelry', 'Category_Kitchen', 'Category_Outdoors',\n",
       "       'Category_Pet Supplies', 'Category_Shoes', 'Category_Skincare',\n",
       "       'Category_Snacks', 'Category_Sports', 'Category_Toys'],\n",
       "      dtype='object')"
      ]
     },
     "execution_count": 87,
     "metadata": {},
     "output_type": "execute_result"
    }
   ],
   "source": [
    "data.columns"
   ]
  },
  {
   "cell_type": "markdown",
   "id": "dbdb918b-12cc-4ecc-94d5-5c3a2fb82a92",
   "metadata": {},
   "source": [
    "## Feature importances using Random Forest(Regression)"
   ]
  },
  {
   "cell_type": "code",
   "execution_count": 92,
   "id": "2380d516-66d7-4cd7-b232-3b402c283950",
   "metadata": {},
   "outputs": [
    {
     "data": {
      "text/html": [
       "<div>\n",
       "<style scoped>\n",
       "    .dataframe tbody tr th:only-of-type {\n",
       "        vertical-align: middle;\n",
       "    }\n",
       "\n",
       "    .dataframe tbody tr th {\n",
       "        vertical-align: top;\n",
       "    }\n",
       "\n",
       "    .dataframe thead th {\n",
       "        text-align: right;\n",
       "    }\n",
       "</style>\n",
       "<table border=\"1\" class=\"dataframe\">\n",
       "  <thead>\n",
       "    <tr style=\"text-align: right;\">\n",
       "      <th></th>\n",
       "      <th>Feature</th>\n",
       "      <th>Importance</th>\n",
       "    </tr>\n",
       "  </thead>\n",
       "  <tbody>\n",
       "    <tr>\n",
       "      <th>23</th>\n",
       "      <td>Category_Grocery</td>\n",
       "      <td>0.235214</td>\n",
       "    </tr>\n",
       "    <tr>\n",
       "      <th>1</th>\n",
       "      <td>Agent_Rating</td>\n",
       "      <td>0.170260</td>\n",
       "    </tr>\n",
       "    <tr>\n",
       "      <th>2</th>\n",
       "      <td>Traffic</td>\n",
       "      <td>0.124566</td>\n",
       "    </tr>\n",
       "    <tr>\n",
       "      <th>3</th>\n",
       "      <td>Distance_km</td>\n",
       "      <td>0.123194</td>\n",
       "    </tr>\n",
       "    <tr>\n",
       "      <th>0</th>\n",
       "      <td>Agent_Age</td>\n",
       "      <td>0.091196</td>\n",
       "    </tr>\n",
       "    <tr>\n",
       "      <th>11</th>\n",
       "      <td>Weather_Sunny</td>\n",
       "      <td>0.054907</td>\n",
       "    </tr>\n",
       "    <tr>\n",
       "      <th>8</th>\n",
       "      <td>Weather_Fog</td>\n",
       "      <td>0.025131</td>\n",
       "    </tr>\n",
       "    <tr>\n",
       "      <th>13</th>\n",
       "      <td>Vehicle_motorcycle</td>\n",
       "      <td>0.024333</td>\n",
       "    </tr>\n",
       "    <tr>\n",
       "      <th>5</th>\n",
       "      <td>Order_Day</td>\n",
       "      <td>0.021459</td>\n",
       "    </tr>\n",
       "    <tr>\n",
       "      <th>12</th>\n",
       "      <td>Weather_Windy</td>\n",
       "      <td>0.017730</td>\n",
       "    </tr>\n",
       "    <tr>\n",
       "      <th>9</th>\n",
       "      <td>Weather_Sandstorms</td>\n",
       "      <td>0.017022</td>\n",
       "    </tr>\n",
       "    <tr>\n",
       "      <th>6</th>\n",
       "      <td>Order_DayName</td>\n",
       "      <td>0.014217</td>\n",
       "    </tr>\n",
       "    <tr>\n",
       "      <th>10</th>\n",
       "      <td>Weather_Stormy</td>\n",
       "      <td>0.013641</td>\n",
       "    </tr>\n",
       "    <tr>\n",
       "      <th>4</th>\n",
       "      <td>Order_to_Pickup_Minutes</td>\n",
       "      <td>0.008801</td>\n",
       "    </tr>\n",
       "    <tr>\n",
       "      <th>18</th>\n",
       "      <td>Area_Urban</td>\n",
       "      <td>0.005856</td>\n",
       "    </tr>\n",
       "    <tr>\n",
       "      <th>7</th>\n",
       "      <td>Order_Month</td>\n",
       "      <td>0.005589</td>\n",
       "    </tr>\n",
       "    <tr>\n",
       "      <th>17</th>\n",
       "      <td>Area_Semi-Urban</td>\n",
       "      <td>0.003680</td>\n",
       "    </tr>\n",
       "    <tr>\n",
       "      <th>21</th>\n",
       "      <td>Category_Cosmetics</td>\n",
       "      <td>0.003063</td>\n",
       "    </tr>\n",
       "    <tr>\n",
       "      <th>30</th>\n",
       "      <td>Category_Skincare</td>\n",
       "      <td>0.003060</td>\n",
       "    </tr>\n",
       "    <tr>\n",
       "      <th>33</th>\n",
       "      <td>Category_Toys</td>\n",
       "      <td>0.003007</td>\n",
       "    </tr>\n",
       "    <tr>\n",
       "      <th>20</th>\n",
       "      <td>Category_Clothing</td>\n",
       "      <td>0.002954</td>\n",
       "    </tr>\n",
       "    <tr>\n",
       "      <th>29</th>\n",
       "      <td>Category_Shoes</td>\n",
       "      <td>0.002920</td>\n",
       "    </tr>\n",
       "    <tr>\n",
       "      <th>25</th>\n",
       "      <td>Category_Jewelry</td>\n",
       "      <td>0.002870</td>\n",
       "    </tr>\n",
       "    <tr>\n",
       "      <th>22</th>\n",
       "      <td>Category_Electronics</td>\n",
       "      <td>0.002830</td>\n",
       "    </tr>\n",
       "    <tr>\n",
       "      <th>26</th>\n",
       "      <td>Category_Kitchen</td>\n",
       "      <td>0.002815</td>\n",
       "    </tr>\n",
       "    <tr>\n",
       "      <th>24</th>\n",
       "      <td>Category_Home</td>\n",
       "      <td>0.002802</td>\n",
       "    </tr>\n",
       "    <tr>\n",
       "      <th>31</th>\n",
       "      <td>Category_Snacks</td>\n",
       "      <td>0.002799</td>\n",
       "    </tr>\n",
       "    <tr>\n",
       "      <th>27</th>\n",
       "      <td>Category_Outdoors</td>\n",
       "      <td>0.002761</td>\n",
       "    </tr>\n",
       "    <tr>\n",
       "      <th>19</th>\n",
       "      <td>Category_Books</td>\n",
       "      <td>0.002717</td>\n",
       "    </tr>\n",
       "    <tr>\n",
       "      <th>32</th>\n",
       "      <td>Category_Sports</td>\n",
       "      <td>0.002643</td>\n",
       "    </tr>\n",
       "    <tr>\n",
       "      <th>28</th>\n",
       "      <td>Category_Pet Supplies</td>\n",
       "      <td>0.002548</td>\n",
       "    </tr>\n",
       "    <tr>\n",
       "      <th>16</th>\n",
       "      <td>Area_Other</td>\n",
       "      <td>0.001535</td>\n",
       "    </tr>\n",
       "    <tr>\n",
       "      <th>14</th>\n",
       "      <td>Vehicle_scooter</td>\n",
       "      <td>0.001156</td>\n",
       "    </tr>\n",
       "    <tr>\n",
       "      <th>15</th>\n",
       "      <td>Vehicle_van</td>\n",
       "      <td>0.000725</td>\n",
       "    </tr>\n",
       "  </tbody>\n",
       "</table>\n",
       "</div>"
      ],
      "text/plain": [
       "                    Feature  Importance\n",
       "23         Category_Grocery    0.235214\n",
       "1              Agent_Rating    0.170260\n",
       "2                   Traffic    0.124566\n",
       "3               Distance_km    0.123194\n",
       "0                 Agent_Age    0.091196\n",
       "11            Weather_Sunny    0.054907\n",
       "8               Weather_Fog    0.025131\n",
       "13      Vehicle_motorcycle     0.024333\n",
       "5                 Order_Day    0.021459\n",
       "12            Weather_Windy    0.017730\n",
       "9        Weather_Sandstorms    0.017022\n",
       "6             Order_DayName    0.014217\n",
       "10           Weather_Stormy    0.013641\n",
       "4   Order_to_Pickup_Minutes    0.008801\n",
       "18              Area_Urban     0.005856\n",
       "7               Order_Month    0.005589\n",
       "17         Area_Semi-Urban     0.003680\n",
       "21       Category_Cosmetics    0.003063\n",
       "30        Category_Skincare    0.003060\n",
       "33            Category_Toys    0.003007\n",
       "20        Category_Clothing    0.002954\n",
       "29           Category_Shoes    0.002920\n",
       "25         Category_Jewelry    0.002870\n",
       "22     Category_Electronics    0.002830\n",
       "26         Category_Kitchen    0.002815\n",
       "24            Category_Home    0.002802\n",
       "31          Category_Snacks    0.002799\n",
       "27        Category_Outdoors    0.002761\n",
       "19           Category_Books    0.002717\n",
       "32          Category_Sports    0.002643\n",
       "28    Category_Pet Supplies    0.002548\n",
       "16               Area_Other    0.001535\n",
       "14         Vehicle_scooter     0.001156\n",
       "15              Vehicle_van    0.000725"
      ]
     },
     "execution_count": 92,
     "metadata": {},
     "output_type": "execute_result"
    }
   ],
   "source": [
    "from sklearn.ensemble import RandomForestRegressor\n",
    "\n",
    "\n",
    "X = data.drop(columns=['Delivery_Time'])\n",
    "y = data['Delivery_Time']\n",
    "\n",
    "# Train a Random Forest model\n",
    "rf_model = RandomForestRegressor(n_estimators=100, random_state=42)\n",
    "rf_model.fit(X, y)\n",
    "\n",
    "# Create a DataFrame\n",
    "feature_importance_df = pd.DataFrame({\n",
    "    'Feature': X.columns,\n",
    "    'Importance': rf_model.feature_importances_\n",
    "})\n",
    "\n",
    "# Sort by importance in descending order\n",
    "feature_importance_df = feature_importance_df.sort_values(by='Importance', ascending=False)\n",
    "\n",
    "# Display the top features\n",
    "feature_importance_df"
   ]
  },
  {
   "cell_type": "markdown",
   "id": "01ec23b1-981a-4d1d-8113-e028a0f3d34c",
   "metadata": {},
   "source": [
    "## Bar Graph for Feature Importance"
   ]
  },
  {
   "cell_type": "code",
   "execution_count": 95,
   "id": "939c60a9-1554-44d8-afdb-317392b385eb",
   "metadata": {},
   "outputs": [
    {
     "data": {
      "image/png": "[encoded data removed]",
      "text/plain": [
       "<Figure size 1000x500 with 1 Axes>"
      ]
     },
     "metadata": {},
     "output_type": "display_data"
    }
   ],
   "source": [
    "plt.figure(figsize=(10,5))\n",
    "sns.barplot(x=feature_importance_df['Importance'][:15], y=feature_importance_df['Feature'][:15], color='purple', width=0.4)\n",
    "plt.xlabel(\"Feature Importance Score\")\n",
    "plt.ylabel(\"Features\")\n",
    "plt.title(\"Top 15 Important Features - Random Forest\")\n",
    "plt.show()"
   ]
  },
  {
   "cell_type": "code",
   "execution_count": 106,
   "id": "f7dac0db-41fd-4306-80a5-7adb52ae9d9c",
   "metadata": {},
   "outputs": [
    {
     "data": {
      "text/plain": [
       "['Category_Grocery',\n",
       " 'Agent_Rating',\n",
       " 'Traffic',\n",
       " 'Distance_km',\n",
       " 'Agent_Age',\n",
       " 'Weather_Sunny',\n",
       " 'Weather_Fog',\n",
       " 'Vehicle_motorcycle ',\n",
       " 'Order_Day',\n",
       " 'Weather_Windy']"
      ]
     },
     "execution_count": 106,
     "metadata": {},
     "output_type": "execute_result"
    }
   ],
   "source": [
    "# columns to consider\n",
    "\n",
    "feature_importance_df['Feature'][:10].tolist()"
   ]
  },
  {
   "cell_type": "markdown",
   "id": "23bdbf74-443f-49d1-a359-20b5457042a6",
   "metadata": {},
   "source": [
    "## Model building (Regression)"
   ]
  },
  {
   "cell_type": "code",
   "execution_count": 108,
   "id": "5d4082c6-ec87-48ab-a3cc-68736f3493c0",
   "metadata": {},
   "outputs": [],
   "source": [
    "# Select features\n",
    "features = [\n",
    "    'Category_Grocery', 'Agent_Rating', 'Traffic', 'Distance_km',\n",
    "    'Agent_Age', 'Weather_Sunny', 'Weather_Fog', 'Vehicle_motorcycle ',\n",
    "    'Order_Day', 'Weather_Windy'\n",
    "]\n",
    "\n",
    "X = data[features]\n",
    "y = data['Delivery_Time']"
   ]
  },
  {
   "cell_type": "code",
   "execution_count": 110,
   "id": "0470908b-9f6d-4bfa-ba41-577b15bc3901",
   "metadata": {},
   "outputs": [],
   "source": [
    "# Split data into training and testing sets\n",
    "X_train, X_test, y_train, y_test = train_test_split(X, y, test_size=0.2, random_state=42)"
   ]
  },
  {
   "cell_type": "code",
   "execution_count": 112,
   "id": "68faf00d-f653-48e4-a112-03abbd21b5e8",
   "metadata": {},
   "outputs": [
    {
     "data": {
      "text/html": [
       "<div>\n",
       "<style scoped>\n",
       "    .dataframe tbody tr th:only-of-type {\n",
       "        vertical-align: middle;\n",
       "    }\n",
       "\n",
       "    .dataframe tbody tr th {\n",
       "        vertical-align: top;\n",
       "    }\n",
       "\n",
       "    .dataframe thead th {\n",
       "        text-align: right;\n",
       "    }\n",
       "</style>\n",
       "<table border=\"1\" class=\"dataframe\">\n",
       "  <thead>\n",
       "    <tr style=\"text-align: right;\">\n",
       "      <th></th>\n",
       "      <th>MAE</th>\n",
       "      <th>MSE</th>\n",
       "      <th>RMSE</th>\n",
       "      <th>R2 Score</th>\n",
       "    </tr>\n",
       "  </thead>\n",
       "  <tbody>\n",
       "    <tr>\n",
       "      <th>Linear Regression</th>\n",
       "      <td>27.292495</td>\n",
       "      <td>1193.631415</td>\n",
       "      <td>34.548971</td>\n",
       "      <td>0.551572</td>\n",
       "    </tr>\n",
       "    <tr>\n",
       "      <th>Decision Tree Regressor</th>\n",
       "      <td>26.301269</td>\n",
       "      <td>1267.322502</td>\n",
       "      <td>35.599473</td>\n",
       "      <td>0.523887</td>\n",
       "    </tr>\n",
       "    <tr>\n",
       "      <th>Random Forest Regressor</th>\n",
       "      <td>20.280502</td>\n",
       "      <td>708.594611</td>\n",
       "      <td>26.619440</td>\n",
       "      <td>0.733792</td>\n",
       "    </tr>\n",
       "    <tr>\n",
       "      <th>Gradient Boosting</th>\n",
       "      <td>20.812277</td>\n",
       "      <td>709.342608</td>\n",
       "      <td>26.633487</td>\n",
       "      <td>0.733511</td>\n",
       "    </tr>\n",
       "    <tr>\n",
       "      <th>XGBoost Regressor</th>\n",
       "      <td>19.757269</td>\n",
       "      <td>647.932153</td>\n",
       "      <td>25.454511</td>\n",
       "      <td>0.756582</td>\n",
       "    </tr>\n",
       "  </tbody>\n",
       "</table>\n",
       "</div>"
      ],
      "text/plain": [
       "                               MAE          MSE       RMSE  R2 Score\n",
       "Linear Regression        27.292495  1193.631415  34.548971  0.551572\n",
       "Decision Tree Regressor  26.301269  1267.322502  35.599473  0.523887\n",
       "Random Forest Regressor  20.280502   708.594611  26.619440  0.733792\n",
       "Gradient Boosting        20.812277   709.342608  26.633487  0.733511\n",
       "XGBoost Regressor        19.757269   647.932153  25.454511  0.756582"
      ]
     },
     "execution_count": 112,
     "metadata": {},
     "output_type": "execute_result"
    }
   ],
   "source": [
    "models = {\n",
    "    \"Linear Regression\": LinearRegression(),\n",
    "    \"Decision Tree Regressor\": DecisionTreeRegressor(),\n",
    "    \"Random Forest Regressor\": RandomForestRegressor(),\n",
    "    \"Gradient Boosting\": GradientBoostingRegressor(),\n",
    "    \"XGBoost Regressor\": XGBRegressor()\n",
    "}\n",
    "# Train and evaluate models\n",
    "results = {}\n",
    "\n",
    "for name, model in models.items():\n",
    "    model.fit(X_train, y_train)  # Train the model\n",
    "    y_pred = model.predict(X_test)  # Predict on test data\n",
    "\n",
    "    # Compute evaluation metrics\n",
    "    mae = mean_absolute_error(y_test, y_pred)\n",
    "    mse = mean_squared_error(y_test, y_pred)\n",
    "    rmse = np.sqrt(mse)\n",
    "    r2 = r2_score(y_test, y_pred)\n",
    "\n",
    "    results[name] = {\n",
    "        \"MAE\": mae,\n",
    "        \"MSE\": mse,\n",
    "        \"RMSE\": rmse,\n",
    "        \"R2 Score\": r2\n",
    "    }\n",
    "\n",
    "# Convert results to DataFrame\n",
    "results_df = pd.DataFrame(results).T\n",
    "results_df"
   ]
  },
  {
   "cell_type": "markdown",
   "id": "52077ac8-c930-4612-80f9-86ad2eeb3348",
   "metadata": {},
   "source": [
    "**Observation:** I performed feature importance analysis and achieved an R² score of 75%. However, when I trained the model without applying feature selection, the R² score improved to 80%, indicating better performance."
   ]
  },
  {
   "cell_type": "code",
   "execution_count": 85,
   "id": "811c1d01-6c4f-4b0c-b89d-859469ff45e0",
   "metadata": {},
   "outputs": [],
   "source": [
    "# Select features\n",
    "X = data.drop(columns=['Delivery_Time'])\n",
    "y = data['Delivery_Time']"
   ]
  },
  {
   "cell_type": "code",
   "execution_count": null,
   "id": "8773ae5f-1b36-4134-adb5-af8fde73669a",
   "metadata": {},
   "outputs": [],
   "source": [
    "# Split data into training and testing sets\n",
    "X_train, X_test, y_train, y_test = train_test_split(X, y, test_size=0.2, random_state=42)"
   ]
  },
  {
   "cell_type": "code",
   "execution_count": 89,
   "id": "4af44a2a-c612-460f-8928-f9eb5134c2ea",
   "metadata": {},
   "outputs": [],
   "source": [
    "# Define models with optimized hyperparameters\n",
    "models = {\n",
    "    \"Linear Regression\": LinearRegression(),\n",
    "    \"Random Forest\": RandomForestRegressor(random_state=42),\n",
    "    \"Gradient Boosting\": GradientBoostingRegressor(random_state=42),\n",
    "    \"Decision Tree Regressor\": DecisionTreeRegressor(random_state=42),\n",
    "    \"XGBoost\": XGBRegressor(random_state=42)\n",
    "}"
   ]
  },
  {
   "cell_type": "code",
   "execution_count": 91,
   "id": "61725cb2-31fb-4dd2-935c-412445807177",
   "metadata": {},
   "outputs": [
    {
     "name": "stderr",
     "output_type": "stream",
     "text": [
      "2025/04/10 20:00:36 INFO mlflow.tracking.fluent: Experiment with name 'Amazon Delivery Time Prediction' does not exist. Creating a new experiment.\n"
     ]
    },
    {
     "data": {
      "text/plain": [
       "<Experiment: artifact_location='file:///D:/GUVI-DS/Mini-Project_3_New/mlruns/378526713669649690', creation_time=1744295436752, experiment_id='378526713669649690', last_update_time=1744295436752, lifecycle_stage='active', name='Amazon Delivery Time Prediction', tags={}>"
      ]
     },
     "execution_count": 91,
     "metadata": {},
     "output_type": "execute_result"
    }
   ],
   "source": [
    "# MLflow Setup\n",
    "mlflow.set_experiment(\"Amazon Delivery Time Prediction\")"
   ]
  },
  {
   "cell_type": "code",
   "execution_count": 115,
   "id": "9aeb95c4-1e8e-4683-8d08-ea4edcbbb987",
   "metadata": {},
   "outputs": [],
   "source": [
    "best_score = -np.inf\n",
    "best_model_name = None\n",
    "best_model = None"
   ]
  },
  {
   "cell_type": "code",
   "execution_count": 117,
   "id": "c387f4ca-3171-4328-a89c-8a3ee4eda50a",
   "metadata": {},
   "outputs": [],
   "source": [
    "# Store metrics for all models\n",
    "results = []"
   ]
  },
  {
   "cell_type": "code",
   "execution_count": 119,
   "id": "c39e0edd-f940-48df-8076-1907b3cd85de",
   "metadata": {},
   "outputs": [
    {
     "name": "stderr",
     "output_type": "stream",
     "text": [
      "2025/04/10 21:15:59 WARNING mlflow.models.model: Model logged without a signature and input example. Please set `input_example` parameter when logging the model to auto infer the model signature.\n",
      "2025/04/10 21:18:58 WARNING mlflow.models.model: Model logged without a signature and input example. Please set `input_example` parameter when logging the model to auto infer the model signature.\n",
      "2025/04/10 21:19:40 WARNING mlflow.models.model: Model logged without a signature and input example. Please set `input_example` parameter when logging the model to auto infer the model signature.\n",
      "2025/04/10 21:19:49 WARNING mlflow.models.model: Model logged without a signature and input example. Please set `input_example` parameter when logging the model to auto infer the model signature.\n",
      "2025/04/10 21:19:57 WARNING mlflow.models.model: Model logged without a signature and input example. Please set `input_example` parameter when logging the model to auto infer the model signature.\n"
     ]
    }
   ],
   "source": [
    "# Train and evaluate models\n",
    "for name, model in models.items():\n",
    "    with mlflow.start_run(run_name=name):\n",
    "        model.fit(X_train, y_train)\n",
    "        preds = model.predict(X_test)\n",
    "\n",
    "        # Metrics\n",
    "        r2 = r2_score(y_test, preds)\n",
    "        mae = mean_absolute_error(y_test, preds)\n",
    "        mse = mean_squared_error(y_test, preds)\n",
    "        rmse = np.sqrt(mse)\n",
    "        cv = KFold(n_splits=5, shuffle=True, random_state=42)\n",
    "        cv_score = cross_val_score(model, X, y, cv=cv, scoring='r2').mean()\n",
    "\n",
    "        # Log to MLflow\n",
    "        mlflow.log_param(\"Model\", name)\n",
    "        mlflow.log_metric(\"R2\", r2)\n",
    "        mlflow.log_metric(\"MAE\", mae)\n",
    "        mlflow.log_metric(\"MSE\", mse)\n",
    "        mlflow.log_metric(\"RMSE\", rmse)\n",
    "        mlflow.log_metric(\"CV R2\", cv_score)\n",
    "        mlflow.sklearn.log_model(model, \"model\")\n",
    "\n",
    "        # Store in results\n",
    "        results.append({\n",
    "            \"Model\": name,\n",
    "            \"R2\": r2,\n",
    "            \"MAE\": mae,\n",
    "            \"MSE\": mse,\n",
    "            \"RMSE\": rmse,\n",
    "            \"CV R2\": cv_score\n",
    "        })\n",
    "\n",
    "        # Save best\n",
    "        if cv_score > best_score:\n",
    "            best_score = cv_score\n",
    "            best_model_name = name\n",
    "            best_model = model"
   ]
  },
  {
   "cell_type": "code",
   "execution_count": 133,
   "id": "aaeff78e-b3f2-42ba-8cd2-51d71aa509df",
   "metadata": {},
   "outputs": [
    {
     "data": {
      "text/html": [
       "<div>\n",
       "<style scoped>\n",
       "    .dataframe tbody tr th:only-of-type {\n",
       "        vertical-align: middle;\n",
       "    }\n",
       "\n",
       "    .dataframe tbody tr th {\n",
       "        vertical-align: top;\n",
       "    }\n",
       "\n",
       "    .dataframe thead th {\n",
       "        text-align: right;\n",
       "    }\n",
       "</style>\n",
       "<table border=\"1\" class=\"dataframe\">\n",
       "  <thead>\n",
       "    <tr style=\"text-align: right;\">\n",
       "      <th></th>\n",
       "      <th>Model</th>\n",
       "      <th>R2</th>\n",
       "      <th>MAE</th>\n",
       "      <th>MSE</th>\n",
       "      <th>RMSE</th>\n",
       "      <th>CV R2</th>\n",
       "    </tr>\n",
       "  </thead>\n",
       "  <tbody>\n",
       "    <tr>\n",
       "      <th>0</th>\n",
       "      <td>XGBoost</td>\n",
       "      <td>0.805017</td>\n",
       "      <td>17.781399</td>\n",
       "      <td>519.007568</td>\n",
       "      <td>22.781738</td>\n",
       "      <td>0.801335</td>\n",
       "    </tr>\n",
       "    <tr>\n",
       "      <th>1</th>\n",
       "      <td>Random Forest</td>\n",
       "      <td>0.801032</td>\n",
       "      <td>17.685567</td>\n",
       "      <td>529.614697</td>\n",
       "      <td>23.013359</td>\n",
       "      <td>0.796651</td>\n",
       "    </tr>\n",
       "    <tr>\n",
       "      <th>2</th>\n",
       "      <td>Gradient Boosting</td>\n",
       "      <td>0.755098</td>\n",
       "      <td>19.977032</td>\n",
       "      <td>651.883853</td>\n",
       "      <td>25.532016</td>\n",
       "      <td>0.752066</td>\n",
       "    </tr>\n",
       "    <tr>\n",
       "      <th>3</th>\n",
       "      <td>Decision Tree Regressor</td>\n",
       "      <td>0.615513</td>\n",
       "      <td>23.771376</td>\n",
       "      <td>1023.430956</td>\n",
       "      <td>31.991107</td>\n",
       "      <td>0.625882</td>\n",
       "    </tr>\n",
       "    <tr>\n",
       "      <th>4</th>\n",
       "      <td>Linear Regression</td>\n",
       "      <td>0.576814</td>\n",
       "      <td>26.660449</td>\n",
       "      <td>1126.441342</td>\n",
       "      <td>33.562499</td>\n",
       "      <td>0.575190</td>\n",
       "    </tr>\n",
       "  </tbody>\n",
       "</table>\n",
       "</div>"
      ],
      "text/plain": [
       "                     Model        R2        MAE          MSE       RMSE  \\\n",
       "0                  XGBoost  0.805017  17.781399   519.007568  22.781738   \n",
       "1            Random Forest  0.801032  17.685567   529.614697  23.013359   \n",
       "2        Gradient Boosting  0.755098  19.977032   651.883853  25.532016   \n",
       "3  Decision Tree Regressor  0.615513  23.771376  1023.430956  31.991107   \n",
       "4        Linear Regression  0.576814  26.660449  1126.441342  33.562499   \n",
       "\n",
       "      CV R2  \n",
       "0  0.801335  \n",
       "1  0.796651  \n",
       "2  0.752066  \n",
       "3  0.625882  \n",
       "4  0.575190  "
      ]
     },
     "execution_count": 133,
     "metadata": {},
     "output_type": "execute_result"
    }
   ],
   "source": [
    "# Convert results to DataFrame\n",
    "results_df = pd.DataFrame(results).sort_values(by=\"CV R2\", ascending=False).reset_index(drop=True)\n",
    "results_df_path = \"model_results.csv\"\n",
    "results_df.to_csv(results_df_path, index=False)\n",
    "mlflow.log_artifact(results_df_path)\n",
    "\n",
    "results_df.head()"
   ]
  },
  {
   "cell_type": "markdown",
   "id": "7551ed66-3b83-49bf-afb8-dc7083b1ffaa",
   "metadata": {},
   "source": [
    "## Hyperparameter Tuning for the best model of XGBoost using RandomizedSearchCV"
   ]
  },
  {
   "cell_type": "code",
   "execution_count": 123,
   "id": "f77a8d1f-cf33-4d74-9b8c-bf395a025af1",
   "metadata": {},
   "outputs": [
    {
     "name": "stderr",
     "output_type": "stream",
     "text": [
      "2025/04/10 21:23:08 WARNING mlflow.models.model: Model logged without a signature and input example. Please set `input_example` parameter when logging the model to auto infer the model signature.\n"
     ]
    },
    {
     "name": "stdout",
     "output_type": "stream",
     "text": [
      "\n",
      "✅ XGBoost tuned and logged to MLflow.\n"
     ]
    }
   ],
   "source": [
    "if best_model_name == \"XGBoost\":\n",
    "    with mlflow.start_run(run_name=\"XGBoost Tuned\"):\n",
    "        param_dist = {\n",
    "        'n_estimators': [100, 200],\n",
    "        'learning_rate': [0.01, 0.05, 0.1],\n",
    "        'max_depth': [3, 5, 7],\n",
    "        'subsample': [0.8, 1.0],\n",
    "        'colsample_bytree': [0.8, 1.0]\n",
    "    }\n",
    "\n",
    "        rs = RandomizedSearchCV(XGBRegressor(random_state=42), param_distributions=param_dist, \n",
    "                                n_iter=20, cv=cv, scoring='r2', random_state=42, n_jobs=-1)\n",
    "        rs.fit(X_train, y_train)\n",
    "        tuned_model = rs.best_estimator_\n",
    "\n",
    "        # Predict & metrics\n",
    "        preds = tuned_model.predict(X_test)\n",
    "        r2 = r2_score(y_test, preds)\n",
    "        mae = mean_absolute_error(y_test, preds)\n",
    "        mse = mean_squared_error(y_test, preds)\n",
    "        rmse = np.sqrt(mse)\n",
    "\n",
    "        # Log tuned parameters & metrics\n",
    "        mlflow.log_params(rs.best_params_)\n",
    "        mlflow.log_metric(\"Tuned R2\", r2)\n",
    "        mlflow.log_metric(\"Tuned MAE\", mae)\n",
    "        mlflow.log_metric(\"Tuned MSE\", mse)\n",
    "        mlflow.log_metric(\"Tuned RMSE\", rmse)\n",
    "\n",
    "        # Save the final model\n",
    "        mlflow.sklearn.log_model(tuned_model, \"tuned_model\")\n",
    "        best_model = tuned_model\n",
    "\n",
    "        print(\"\\n✅ XGBoost tuned and logged to MLflow.\")"
   ]
  },
  {
   "cell_type": "code",
   "execution_count": 125,
   "id": "6e542378-24df-486a-830d-ff61942a0b3b",
   "metadata": {},
   "outputs": [
    {
     "name": "stdout",
     "output_type": "stream",
     "text": [
      "💾 Best model saved as best_model.pkl\n"
     ]
    }
   ],
   "source": [
    "# Save the Best Model\n",
    "joblib.dump(best_model, \"best_model.pkl\")\n",
    "print(\"💾 Best model saved as best_model.pkl\")"
   ]
  }
 ],
 "metadata": {
  "kernelspec": {
   "display_name": "Python 3 (ipykernel)",
   "language": "python",
   "name": "python3"
  },
  "language_info": {
   "codemirror_mode": {
    "name": "ipython",
    "version": 3
   },
   "file_extension": ".py",
   "mimetype": "text/x-python",
   "name": "python",
   "nbconvert_exporter": "python",
   "pygments_lexer": "ipython3",
   "version": "3.12.4"
  }
 },
 "nbformat": 4,
 "nbformat_minor": 5
}
