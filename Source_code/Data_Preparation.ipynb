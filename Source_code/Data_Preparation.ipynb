{
 "cells": [
  {
   "cell_type": "markdown",
   "id": "76a3d7bd-1c19-443c-8c57-c30004ccbc64",
   "metadata": {},
   "source": [
    "## Amazon Delivery Time Prediction - Data Preparation"
   ]
  },
  {
   "cell_type": "code",
   "execution_count": 119,
   "id": "6d8ab212-8c88-4421-a444-84a15f737fd1",
   "metadata": {},
   "outputs": [],
   "source": [
    "# Import necessary libraries\n",
    "import pandas as pd\n",
    "import numpy as np\n",
    "from datetime import datetime\n",
    "from geopy.distance import geodesic"
   ]
  },
  {
   "cell_type": "markdown",
   "id": "8828d2f4-fec9-40f1-97d5-0ec011d9c17a",
   "metadata": {},
   "source": [
    "### Load and preprocess the dataset"
   ]
  },
  {
   "cell_type": "code",
   "execution_count": 121,
   "id": "78e41d5b-890c-43fa-b3f7-4bcd6de7bf16",
   "metadata": {},
   "outputs": [
    {
     "data": {
      "text/html": [
       "<div>\n",
       "<style scoped>\n",
       "    .dataframe tbody tr th:only-of-type {\n",
       "        vertical-align: middle;\n",
       "    }\n",
       "\n",
       "    .dataframe tbody tr th {\n",
       "        vertical-align: top;\n",
       "    }\n",
       "\n",
       "    .dataframe thead th {\n",
       "        text-align: right;\n",
       "    }\n",
       "</style>\n",
       "<table border=\"1\" class=\"dataframe\">\n",
       "  <thead>\n",
       "    <tr style=\"text-align: right;\">\n",
       "      <th></th>\n",
       "      <th>Order_ID</th>\n",
       "      <th>Agent_Age</th>\n",
       "      <th>Agent_Rating</th>\n",
       "      <th>Store_Latitude</th>\n",
       "      <th>Store_Longitude</th>\n",
       "      <th>Drop_Latitude</th>\n",
       "      <th>Drop_Longitude</th>\n",
       "      <th>Order_Date</th>\n",
       "      <th>Order_Time</th>\n",
       "      <th>Pickup_Time</th>\n",
       "      <th>Weather</th>\n",
       "      <th>Traffic</th>\n",
       "      <th>Vehicle</th>\n",
       "      <th>Area</th>\n",
       "      <th>Delivery_Time</th>\n",
       "      <th>Category</th>\n",
       "    </tr>\n",
       "  </thead>\n",
       "  <tbody>\n",
       "    <tr>\n",
       "      <th>0</th>\n",
       "      <td>ialx566343618</td>\n",
       "      <td>37</td>\n",
       "      <td>4.9</td>\n",
       "      <td>22.745049</td>\n",
       "      <td>75.892471</td>\n",
       "      <td>22.765049</td>\n",
       "      <td>75.912471</td>\n",
       "      <td>2022-03-19</td>\n",
       "      <td>11:30:00</td>\n",
       "      <td>11:45:00</td>\n",
       "      <td>Sunny</td>\n",
       "      <td>High</td>\n",
       "      <td>motorcycle</td>\n",
       "      <td>Urban</td>\n",
       "      <td>120</td>\n",
       "      <td>Clothing</td>\n",
       "    </tr>\n",
       "    <tr>\n",
       "      <th>1</th>\n",
       "      <td>akqg208421122</td>\n",
       "      <td>34</td>\n",
       "      <td>4.5</td>\n",
       "      <td>12.913041</td>\n",
       "      <td>77.683237</td>\n",
       "      <td>13.043041</td>\n",
       "      <td>77.813237</td>\n",
       "      <td>2022-03-25</td>\n",
       "      <td>19:45:00</td>\n",
       "      <td>19:50:00</td>\n",
       "      <td>Stormy</td>\n",
       "      <td>Jam</td>\n",
       "      <td>scooter</td>\n",
       "      <td>Metropolitian</td>\n",
       "      <td>165</td>\n",
       "      <td>Electronics</td>\n",
       "    </tr>\n",
       "    <tr>\n",
       "      <th>2</th>\n",
       "      <td>njpu434582536</td>\n",
       "      <td>23</td>\n",
       "      <td>4.4</td>\n",
       "      <td>12.914264</td>\n",
       "      <td>77.678400</td>\n",
       "      <td>12.924264</td>\n",
       "      <td>77.688400</td>\n",
       "      <td>2022-03-19</td>\n",
       "      <td>08:30:00</td>\n",
       "      <td>08:45:00</td>\n",
       "      <td>Sandstorms</td>\n",
       "      <td>Low</td>\n",
       "      <td>motorcycle</td>\n",
       "      <td>Urban</td>\n",
       "      <td>130</td>\n",
       "      <td>Sports</td>\n",
       "    </tr>\n",
       "    <tr>\n",
       "      <th>3</th>\n",
       "      <td>rjto796129700</td>\n",
       "      <td>38</td>\n",
       "      <td>4.7</td>\n",
       "      <td>11.003669</td>\n",
       "      <td>76.976494</td>\n",
       "      <td>11.053669</td>\n",
       "      <td>77.026494</td>\n",
       "      <td>2022-04-05</td>\n",
       "      <td>18:00:00</td>\n",
       "      <td>18:10:00</td>\n",
       "      <td>Sunny</td>\n",
       "      <td>Medium</td>\n",
       "      <td>motorcycle</td>\n",
       "      <td>Metropolitian</td>\n",
       "      <td>105</td>\n",
       "      <td>Cosmetics</td>\n",
       "    </tr>\n",
       "    <tr>\n",
       "      <th>4</th>\n",
       "      <td>zguw716275638</td>\n",
       "      <td>32</td>\n",
       "      <td>4.6</td>\n",
       "      <td>12.972793</td>\n",
       "      <td>80.249982</td>\n",
       "      <td>13.012793</td>\n",
       "      <td>80.289982</td>\n",
       "      <td>2022-03-26</td>\n",
       "      <td>13:30:00</td>\n",
       "      <td>13:45:00</td>\n",
       "      <td>Cloudy</td>\n",
       "      <td>High</td>\n",
       "      <td>scooter</td>\n",
       "      <td>Metropolitian</td>\n",
       "      <td>150</td>\n",
       "      <td>Toys</td>\n",
       "    </tr>\n",
       "  </tbody>\n",
       "</table>\n",
       "</div>"
      ],
      "text/plain": [
       "        Order_ID  Agent_Age  Agent_Rating  Store_Latitude  Store_Longitude  \\\n",
       "0  ialx566343618         37           4.9       22.745049        75.892471   \n",
       "1  akqg208421122         34           4.5       12.913041        77.683237   \n",
       "2  njpu434582536         23           4.4       12.914264        77.678400   \n",
       "3  rjto796129700         38           4.7       11.003669        76.976494   \n",
       "4  zguw716275638         32           4.6       12.972793        80.249982   \n",
       "\n",
       "   Drop_Latitude  Drop_Longitude  Order_Date Order_Time Pickup_Time  \\\n",
       "0      22.765049       75.912471  2022-03-19   11:30:00    11:45:00   \n",
       "1      13.043041       77.813237  2022-03-25   19:45:00    19:50:00   \n",
       "2      12.924264       77.688400  2022-03-19   08:30:00    08:45:00   \n",
       "3      11.053669       77.026494  2022-04-05   18:00:00    18:10:00   \n",
       "4      13.012793       80.289982  2022-03-26   13:30:00    13:45:00   \n",
       "\n",
       "      Weather  Traffic      Vehicle            Area  Delivery_Time  \\\n",
       "0       Sunny    High   motorcycle           Urban             120   \n",
       "1      Stormy     Jam      scooter   Metropolitian             165   \n",
       "2  Sandstorms     Low   motorcycle           Urban             130   \n",
       "3       Sunny  Medium   motorcycle   Metropolitian             105   \n",
       "4      Cloudy    High      scooter   Metropolitian             150   \n",
       "\n",
       "      Category  \n",
       "0     Clothing  \n",
       "1  Electronics  \n",
       "2       Sports  \n",
       "3    Cosmetics  \n",
       "4         Toys  "
      ]
     },
     "execution_count": 121,
     "metadata": {},
     "output_type": "execute_result"
    }
   ],
   "source": [
    "df = pd.read_csv('amazon_delivery.csv')\n",
    "df.head()"
   ]
  },
  {
   "cell_type": "code",
   "execution_count": 123,
   "id": "b52ad44a-6287-41a3-858d-13a7273c76c4",
   "metadata": {},
   "outputs": [
    {
     "data": {
      "text/plain": [
       "(43739, 16)"
      ]
     },
     "execution_count": 123,
     "metadata": {},
     "output_type": "execute_result"
    }
   ],
   "source": [
    "df.shape"
   ]
  },
  {
   "cell_type": "code",
   "execution_count": 125,
   "id": "6c6de234-5fda-4640-acf9-c65da447074a",
   "metadata": {},
   "outputs": [
    {
     "data": {
      "text/plain": [
       "Order_ID            0\n",
       "Agent_Age           0\n",
       "Agent_Rating       54\n",
       "Store_Latitude      0\n",
       "Store_Longitude     0\n",
       "Drop_Latitude       0\n",
       "Drop_Longitude      0\n",
       "Order_Date          0\n",
       "Order_Time          0\n",
       "Pickup_Time         0\n",
       "Weather            91\n",
       "Traffic             0\n",
       "Vehicle             0\n",
       "Area                0\n",
       "Delivery_Time       0\n",
       "Category            0\n",
       "dtype: int64"
      ]
     },
     "execution_count": 125,
     "metadata": {},
     "output_type": "execute_result"
    }
   ],
   "source": [
    "# Checking missing values\n",
    "df.isnull().sum()"
   ]
  },
  {
   "cell_type": "code",
   "execution_count": 127,
   "id": "20a1bd2c-889c-4353-ac6b-275813aaa321",
   "metadata": {},
   "outputs": [],
   "source": [
    "# Convert date, time columns\n",
    "df['Order_Date'] = pd.to_datetime(df['Order_Date'], format='%Y-%m-%d', errors='coerce')\n",
    "df['Order_Time'] = pd.to_datetime(df['Order_Time'], format='%H:%M:%S', errors='coerce').dt.time\n",
    "df['Pickup_Time'] = pd.to_datetime(df['Pickup_Time'], format='%H:%M:%S', errors='coerce').dt.time"
   ]
  },
  {
   "cell_type": "code",
   "execution_count": 129,
   "id": "7f5d692a-5a50-47d3-9c1c-a0dfe3b45082",
   "metadata": {},
   "outputs": [],
   "source": [
    "# Convert times to string format\n",
    "df['Order_Time'] = df['Order_Time'].astype(str)\n",
    "df['Pickup_Time'] = df['Pickup_Time'].astype(str)"
   ]
  },
  {
   "cell_type": "code",
   "execution_count": 131,
   "id": "4e77e60b-447a-4a8e-aeba-084b885893d5",
   "metadata": {},
   "outputs": [
    {
     "data": {
      "text/plain": [
       "Order_ID                   object\n",
       "Agent_Age                   int64\n",
       "Agent_Rating              float64\n",
       "Store_Latitude            float64\n",
       "Store_Longitude           float64\n",
       "Drop_Latitude             float64\n",
       "Drop_Longitude            float64\n",
       "Order_Date         datetime64[ns]\n",
       "Order_Time                 object\n",
       "Pickup_Time                object\n",
       "Weather                    object\n",
       "Traffic                    object\n",
       "Vehicle                    object\n",
       "Area                       object\n",
       "Delivery_Time               int64\n",
       "Category                   object\n",
       "dtype: object"
      ]
     },
     "execution_count": 131,
     "metadata": {},
     "output_type": "execute_result"
    }
   ],
   "source": [
    "df.dtypes"
   ]
  },
  {
   "cell_type": "markdown",
   "id": "c9380750-74a6-43ff-a8e9-77fcee759d8e",
   "metadata": {},
   "source": [
    "## Feature engineering"
   ]
  },
  {
   "cell_type": "code",
   "execution_count": 133,
   "id": "47548c2a-63d3-4889-80c3-4308da30a9cb",
   "metadata": {},
   "outputs": [],
   "source": [
    "# Calculate distance between store and drop location\n",
    "distances = []\n",
    "for _, row in df.iterrows():\n",
    "    store_coords = (row['Store_Latitude'], row['Store_Longitude'])\n",
    "    drop_coords = (row['Drop_Latitude'], row['Drop_Longitude'])\n",
    "    \n",
    "    # Check if coordinates are valid\n",
    "    if (pd.isna(store_coords[0]) or pd.isna(store_coords[1]) or \n",
    "        pd.isna(drop_coords[0]) or pd.isna(drop_coords[1])):\n",
    "        distances.append(0)\n",
    "    else:\n",
    "        current_distance = geodesic(store_coords, drop_coords).kilometers\n",
    "        distances.append(current_distance if pd.notna(current_distance) else 0)\n",
    "\n",
    "df['Distance'] = distances"
   ]
  },
  {
   "cell_type": "code",
   "execution_count": 135,
   "id": "4e92cc2c-3708-4208-ab5a-646af163d12d",
   "metadata": {},
   "outputs": [],
   "source": [
    "# Extract time features\n",
    "order_hours = []\n",
    "order_minutes = []\n",
    "pickup_hours = []\n",
    "pickup_minutes = []\n",
    "\n",
    "for order_time, pickup_time in zip(df['Order_Time'], df['Pickup_Time']):\n",
    "    # Process Order Time\n",
    "    if pd.isna(order_time) or order_time == 'NaN' or order_time == 'None':\n",
    "        order_hours.append(0)\n",
    "        order_minutes.append(0)\n",
    "    else:\n",
    "        time_obj = datetime.strptime(str(order_time), '%H:%M:%S').time() if order_time != 'NaT' else datetime.min.time()\n",
    "        order_hours.append(time_obj.hour)\n",
    "        order_minutes.append(time_obj.minute)\n",
    "        \n",
    "    # Process Pickup Time\n",
    "    if pd.isna(pickup_time) or pickup_time == 'NaN' or pickup_time == 'None':\n",
    "        pickup_hours.append(0)\n",
    "        pickup_minutes.append(0)\n",
    "    else:\n",
    "        time_obj = datetime.strptime(str(pickup_time), '%H:%M:%S').time() if pickup_time != 'NaT' else datetime.min.time()\n",
    "        pickup_hours.append(time_obj.hour)\n",
    "        pickup_minutes.append(time_obj.minute)"
   ]
  },
  {
   "cell_type": "code",
   "execution_count": 137,
   "id": "16064250-b794-4d24-b961-9cf6c08ea273",
   "metadata": {},
   "outputs": [],
   "source": [
    "# Add extracted time features to dataframe\n",
    "df['Order_Hour'] = order_hours\n",
    "df['Order_Minute'] = order_minutes\n",
    "df['Pickup_Hour'] = pickup_hours\n",
    "df['Pickup_Minute'] = pickup_minutes"
   ]
  },
  {
   "cell_type": "code",
   "execution_count": 139,
   "id": "327993d8-0595-4938-b887-647cf6ccbfc7",
   "metadata": {},
   "outputs": [],
   "source": [
    "# Extract day and month\n",
    "df['Order_Day'] = df['Order_Date'].dt.day_name()\n",
    "df['Order_Month'] = df['Order_Date'].dt.month"
   ]
  },
  {
   "cell_type": "code",
   "execution_count": 141,
   "id": "847b0b67-fcc3-4b2b-8a24-6aac17cbcc4a",
   "metadata": {},
   "outputs": [
    {
     "name": "stdout",
     "output_type": "stream",
     "text": [
      "\n",
      "Prepared data saved to 'prepared_data.csv'\n"
     ]
    }
   ],
   "source": [
    "# Save processed dataset\n",
    "df.to_csv('prepared_data.csv', index=False)\n",
    "print(\"\\nPrepared data saved to 'prepared_data.csv'\")"
   ]
  }
 ],
 "metadata": {
  "kernelspec": {
   "display_name": "Python 3 (ipykernel)",
   "language": "python",
   "name": "python3"
  },
  "language_info": {
   "codemirror_mode": {
    "name": "ipython",
    "version": 3
   },
   "file_extension": ".py",
   "mimetype": "text/x-python",
   "name": "python",
   "nbconvert_exporter": "python",
   "pygments_lexer": "ipython3",
   "version": "3.12.4"
  }
 },
 "nbformat": 4,
 "nbformat_minor": 5
}
