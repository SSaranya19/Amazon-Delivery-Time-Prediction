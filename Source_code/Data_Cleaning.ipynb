{
 "cells": [
  {
   "cell_type": "markdown",
   "id": "fcc661d1-ee76-4ade-90cc-4d44eee6aeb3",
   "metadata": {},
   "source": [
    "## Amazon Delivery Time Prediction - Data Cleaning"
   ]
  },
  {
   "cell_type": "code",
   "execution_count": 209,
   "id": "47c9af57-7524-4f87-9ff6-56f2b4c4d932",
   "metadata": {},
   "outputs": [],
   "source": [
    "# Import necessary libraries\n",
    "import pandas as pd\n",
    "import numpy as np\n",
    "from sklearn.preprocessing import LabelEncoder"
   ]
  },
  {
   "cell_type": "markdown",
   "id": "67e0f880-fbc7-467f-b5e9-9b20317049fb",
   "metadata": {},
   "source": [
    "### Clean the dataset by handling missing values and duplicates"
   ]
  },
  {
   "cell_type": "code",
   "execution_count": 303,
   "id": "9e0f8b25-4af0-4369-9ea3-4899f68d2363",
   "metadata": {},
   "outputs": [],
   "source": [
    "df = pd.read_csv('prepared_data.csv')"
   ]
  },
  {
   "cell_type": "code",
   "execution_count": 305,
   "id": "e35ef0ef-d544-4700-b4af-45ba5ba9072b",
   "metadata": {},
   "outputs": [
    {
     "name": "stdout",
     "output_type": "stream",
     "text": [
      "Removed 0 duplicate rows\n"
     ]
    }
   ],
   "source": [
    "# Remove duplicates\n",
    "initial_rows = len(df)\n",
    "df = df.drop_duplicates()\n",
    "print(f\"Removed {initial_rows - len(df)} duplicate rows\")"
   ]
  },
  {
   "cell_type": "code",
   "execution_count": 307,
   "id": "6f1c0930-f428-4b59-9525-bcb8bbfa6164",
   "metadata": {},
   "outputs": [
    {
     "data": {
      "text/plain": [
       "Order_ID            0\n",
       "Agent_Age           0\n",
       "Agent_Rating       54\n",
       "Store_Latitude      0\n",
       "Store_Longitude     0\n",
       "Drop_Latitude       0\n",
       "Drop_Longitude      0\n",
       "Order_Date          0\n",
       "Order_Time          0\n",
       "Pickup_Time         0\n",
       "Weather            91\n",
       "Traffic             0\n",
       "Vehicle             0\n",
       "Area                0\n",
       "Delivery_Time       0\n",
       "Category            0\n",
       "Distance            0\n",
       "Order_Hour          0\n",
       "Order_Minute        0\n",
       "Pickup_Hour         0\n",
       "Pickup_Minute       0\n",
       "Order_Day           0\n",
       "Order_Month         0\n",
       "dtype: int64"
      ]
     },
     "execution_count": 307,
     "metadata": {},
     "output_type": "execute_result"
    }
   ],
   "source": [
    "df.isnull().sum()"
   ]
  },
  {
   "cell_type": "code",
   "execution_count": 309,
   "id": "4ed182ee-b589-4206-acda-1ee8c7b9f8d3",
   "metadata": {},
   "outputs": [
    {
     "name": "stdout",
     "output_type": "stream",
     "text": [
      "<class 'pandas.core.frame.DataFrame'>\n",
      "RangeIndex: 43739 entries, 0 to 43738\n",
      "Data columns (total 23 columns):\n",
      " #   Column           Non-Null Count  Dtype  \n",
      "---  ------           --------------  -----  \n",
      " 0   Order_ID         43739 non-null  object \n",
      " 1   Agent_Age        43739 non-null  int64  \n",
      " 2   Agent_Rating     43685 non-null  float64\n",
      " 3   Store_Latitude   43739 non-null  float64\n",
      " 4   Store_Longitude  43739 non-null  float64\n",
      " 5   Drop_Latitude    43739 non-null  float64\n",
      " 6   Drop_Longitude   43739 non-null  float64\n",
      " 7   Order_Date       43739 non-null  object \n",
      " 8   Order_Time       43739 non-null  object \n",
      " 9   Pickup_Time      43739 non-null  object \n",
      " 10  Weather          43648 non-null  object \n",
      " 11  Traffic          43739 non-null  object \n",
      " 12  Vehicle          43739 non-null  object \n",
      " 13  Area             43739 non-null  object \n",
      " 14  Delivery_Time    43739 non-null  int64  \n",
      " 15  Category         43739 non-null  object \n",
      " 16  Distance         43739 non-null  float64\n",
      " 17  Order_Hour       43739 non-null  int64  \n",
      " 18  Order_Minute     43739 non-null  int64  \n",
      " 19  Pickup_Hour      43739 non-null  int64  \n",
      " 20  Pickup_Minute    43739 non-null  int64  \n",
      " 21  Order_Day        43739 non-null  object \n",
      " 22  Order_Month      43739 non-null  int64  \n",
      "dtypes: float64(6), int64(7), object(10)\n",
      "memory usage: 7.7+ MB\n"
     ]
    }
   ],
   "source": [
    "df.info()"
   ]
  },
  {
   "cell_type": "code",
   "execution_count": 311,
   "id": "9d32d1c4-a3e2-4947-9f6a-bbf38be55147",
   "metadata": {},
   "outputs": [],
   "source": [
    "# Fill missing values in 'Agent_Rating' & 'Weather' respective modes\n",
    "df['Agent_Rating'] = df['Agent_Rating'].fillna(df['Agent_Rating'].mode()[0])\n",
    "df['Weather'] = df['Weather'].fillna(df['Weather'].mode()[0])"
   ]
  },
  {
   "cell_type": "code",
   "execution_count": 313,
   "id": "ee264b88-a16e-4df4-827c-5d213298e69d",
   "metadata": {},
   "outputs": [],
   "source": [
    "# changing NaT string values in 'Order_Time' to NaN\n",
    "df['Order_Time'] = df['Order_Time'].replace(\"NaT\", pd.NA)"
   ]
  },
  {
   "cell_type": "code",
   "execution_count": 315,
   "id": "64d2fcb2-71ed-4d27-b41f-0e07288bdacb",
   "metadata": {},
   "outputs": [],
   "source": [
    "# changing NaN string values in 'Traffic' to NaN\n",
    "df['Traffic'] = df['Traffic'].replace(\"NaN \", pd.NA)"
   ]
  },
  {
   "cell_type": "code",
   "execution_count": 317,
   "id": "b9025b65-fe34-4386-9b61-845b897eaf7b",
   "metadata": {},
   "outputs": [],
   "source": [
    "# Fill categorical columns with mode\n",
    "categorical_columns = df.select_dtypes(include=['object']).columns\n",
    "for col in categorical_columns:\n",
    "    df[col] = df[col].fillna(df[col].mode()[0])"
   ]
  },
  {
   "cell_type": "code",
   "execution_count": 319,
   "id": "91c30110-7856-47e1-b891-074648f86c94",
   "metadata": {},
   "outputs": [
    {
     "data": {
      "text/plain": [
       "Order_ID           0\n",
       "Agent_Age          0\n",
       "Agent_Rating       0\n",
       "Store_Latitude     0\n",
       "Store_Longitude    0\n",
       "Drop_Latitude      0\n",
       "Drop_Longitude     0\n",
       "Order_Date         0\n",
       "Order_Time         0\n",
       "Pickup_Time        0\n",
       "Weather            0\n",
       "Traffic            0\n",
       "Vehicle            0\n",
       "Area               0\n",
       "Delivery_Time      0\n",
       "Category           0\n",
       "Distance           0\n",
       "Order_Hour         0\n",
       "Order_Minute       0\n",
       "Pickup_Hour        0\n",
       "Pickup_Minute      0\n",
       "Order_Day          0\n",
       "Order_Month        0\n",
       "dtype: int64"
      ]
     },
     "execution_count": 319,
     "metadata": {},
     "output_type": "execute_result"
    }
   ],
   "source": [
    "df.isnull().sum()"
   ]
  },
  {
   "cell_type": "markdown",
   "id": "93dcfe23-deba-441b-b7c6-560347a25ac3",
   "metadata": {},
   "source": [
    "### Standardize categorical variables"
   ]
  },
  {
   "cell_type": "code",
   "execution_count": 321,
   "id": "1b561497-351d-47f0-a0c3-3f42d8fae530",
   "metadata": {},
   "outputs": [
    {
     "name": "stdout",
     "output_type": "stream",
     "text": [
      "\n",
      "Encoding mapping for Weather:\n",
      "{'Cloudy': 0, 'Fog': 1, 'Sandstorms': 2, 'Stormy': 3, 'Sunny': 4, 'Windy': 5}\n",
      "\n",
      "Encoding mapping for Traffic:\n",
      "{'High ': 0, 'Jam ': 1, 'Low ': 2, 'Medium ': 3}\n",
      "\n",
      "Encoding mapping for Vehicle:\n",
      "{'bicycle ': 0, 'motorcycle ': 1, 'scooter ': 2, 'van': 3}\n",
      "\n",
      "Encoding mapping for Area:\n",
      "{'Metropolitian ': 0, 'Other': 1, 'Semi-Urban ': 2, 'Urban ': 3}\n",
      "\n",
      "Encoding mapping for Category:\n",
      "{'Apparel': 0, 'Books': 1, 'Clothing': 2, 'Cosmetics': 3, 'Electronics': 4, 'Grocery': 5, 'Home': 6, 'Jewelry': 7, 'Kitchen': 8, 'Outdoors': 9, 'Pet Supplies': 10, 'Shoes': 11, 'Skincare': 12, 'Snacks': 13, 'Sports': 14, 'Toys': 15}\n",
      "\n",
      "Encoding mapping for Order_Day:\n",
      "{'Friday': 0, 'Monday': 1, 'Saturday': 2, 'Sunday': 3, 'Thursday': 4, 'Tuesday': 5, 'Wednesday': 6}\n"
     ]
    }
   ],
   "source": [
    "# Initialize dictionary to store label encoders\n",
    "\n",
    "encoders = {}\n",
    "    \n",
    "# Categorical columns to encode\n",
    "categorical_cols = ['Weather', 'Traffic', 'Vehicle', 'Area', 'Category', 'Order_Day']\n",
    "    \n",
    "# Encode each categorical column\n",
    "for col in categorical_cols:\n",
    "    encoders[col] = LabelEncoder()\n",
    "    df[f'{col}_Encoded'] = encoders[col].fit_transform(df[col])\n",
    "        \n",
    "    # Print mapping for reference\n",
    "    mapping = dict(zip(encoders[col].classes_, encoders[col].transform(encoders[col].classes_)))\n",
    "    print(f\"\\nEncoding mapping for {col}:\")\n",
    "    print(mapping)"
   ]
  },
  {
   "cell_type": "code",
   "execution_count": 323,
   "id": "dd633319-5685-4bbe-a004-315d47bca251",
   "metadata": {},
   "outputs": [
    {
     "name": "stdout",
     "output_type": "stream",
     "text": [
      "\n",
      "Cleaned data saved to 'cleaned_data.csv'\n"
     ]
    }
   ],
   "source": [
    "# Save cleaned dataset\n",
    "df.to_csv('cleaned_data.csv', index=False)\n",
    "print(\"\\nCleaned data saved to 'cleaned_data.csv'\")"
   ]
  }
 ],
 "metadata": {
  "kernelspec": {
   "display_name": "Python 3 (ipykernel)",
   "language": "python",
   "name": "python3"
  },
  "language_info": {
   "codemirror_mode": {
    "name": "ipython",
    "version": 3
   },
   "file_extension": ".py",
   "mimetype": "text/x-python",
   "name": "python",
   "nbconvert_exporter": "python",
   "pygments_lexer": "ipython3",
   "version": "3.12.4"
  }
 },
 "nbformat": 4,
 "nbformat_minor": 5
}
